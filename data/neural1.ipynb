{
 "cells": [
  {
   "cell_type": "code",
   "execution_count": 35,
   "metadata": {},
   "outputs": [],
   "source": [
    "# Set the seed value for the notebook so the results are reproducible\n",
    "from numpy.random import seed\n",
    "seed(1)"
   ]
  },
  {
   "cell_type": "code",
   "execution_count": 36,
   "metadata": {
    "slideshow": {
     "slide_type": "subslide"
    }
   },
   "outputs": [],
   "source": [
    "# Dependencies\n",
    "import numpy as np\n",
    "import pandas as pd"
   ]
  },
  {
   "cell_type": "code",
   "execution_count": 37,
   "metadata": {},
   "outputs": [
    {
     "data": {
      "text/plain": [
       "'2.2.4-tf'"
      ]
     },
     "execution_count": 37,
     "metadata": {},
     "output_type": "execute_result"
    }
   ],
   "source": [
    "import tensorflow\n",
    "tensorflow.keras.__version__"
   ]
  },
  {
   "cell_type": "code",
   "execution_count": 38,
   "metadata": {
    "slideshow": {
     "slide_type": "fragment"
    }
   },
   "outputs": [
    {
     "data": {
      "text/html": [
       "<div>\n",
       "<style scoped>\n",
       "    .dataframe tbody tr th:only-of-type {\n",
       "        vertical-align: middle;\n",
       "    }\n",
       "\n",
       "    .dataframe tbody tr th {\n",
       "        vertical-align: top;\n",
       "    }\n",
       "\n",
       "    .dataframe thead th {\n",
       "        text-align: right;\n",
       "    }\n",
       "</style>\n",
       "<table border=\"1\" class=\"dataframe\">\n",
       "  <thead>\n",
       "    <tr style=\"text-align: right;\">\n",
       "      <th></th>\n",
       "      <th>id</th>\n",
       "      <th>EOG_quintile</th>\n",
       "      <th>percent_EDS</th>\n",
       "      <th>child_abuse_rate</th>\n",
       "      <th>children_conc_pov</th>\n",
       "      <th>parent</th>\n",
       "      <th>juv_delinquent</th>\n",
       "      <th>No_HSdegree</th>\n",
       "      <th>parent_unemployed</th>\n",
       "      <th>county_poc</th>\n",
       "      <th>county_tier</th>\n",
       "      <th>poverty_county</th>\n",
       "      <th>median_inc_county</th>\n",
       "    </tr>\n",
       "  </thead>\n",
       "  <tbody>\n",
       "    <tr>\n",
       "      <td>0</td>\n",
       "      <td>1</td>\n",
       "      <td>1</td>\n",
       "      <td>4.0</td>\n",
       "      <td>1.8</td>\n",
       "      <td>3.1</td>\n",
       "      <td>1.2</td>\n",
       "      <td>6.7</td>\n",
       "      <td>5.9</td>\n",
       "      <td>4.0</td>\n",
       "      <td>39.1</td>\n",
       "      <td>3</td>\n",
       "      <td>9.7</td>\n",
       "      <td>80169</td>\n",
       "    </tr>\n",
       "    <tr>\n",
       "      <td>1</td>\n",
       "      <td>2</td>\n",
       "      <td>1</td>\n",
       "      <td>4.0</td>\n",
       "      <td>1.8</td>\n",
       "      <td>3.1</td>\n",
       "      <td>1.2</td>\n",
       "      <td>6.7</td>\n",
       "      <td>5.9</td>\n",
       "      <td>4.0</td>\n",
       "      <td>39.1</td>\n",
       "      <td>3</td>\n",
       "      <td>9.7</td>\n",
       "      <td>80169</td>\n",
       "    </tr>\n",
       "    <tr>\n",
       "      <td>2</td>\n",
       "      <td>3</td>\n",
       "      <td>1</td>\n",
       "      <td>4.0</td>\n",
       "      <td>5.8</td>\n",
       "      <td>7.1</td>\n",
       "      <td>0.8</td>\n",
       "      <td>24.8</td>\n",
       "      <td>8.8</td>\n",
       "      <td>6.0</td>\n",
       "      <td>23.3</td>\n",
       "      <td>3</td>\n",
       "      <td>13.0</td>\n",
       "      <td>60044</td>\n",
       "    </tr>\n",
       "    <tr>\n",
       "      <td>3</td>\n",
       "      <td>4</td>\n",
       "      <td>1</td>\n",
       "      <td>4.0</td>\n",
       "      <td>2.2</td>\n",
       "      <td>12.9</td>\n",
       "      <td>0.8</td>\n",
       "      <td>17.5</td>\n",
       "      <td>8.6</td>\n",
       "      <td>4.9</td>\n",
       "      <td>52.7</td>\n",
       "      <td>3</td>\n",
       "      <td>16.4</td>\n",
       "      <td>64509</td>\n",
       "    </tr>\n",
       "    <tr>\n",
       "      <td>4</td>\n",
       "      <td>5</td>\n",
       "      <td>1</td>\n",
       "      <td>66.2</td>\n",
       "      <td>0.5</td>\n",
       "      <td>26.6</td>\n",
       "      <td>2.4</td>\n",
       "      <td>31.8</td>\n",
       "      <td>17.9</td>\n",
       "      <td>14.7</td>\n",
       "      <td>42.4</td>\n",
       "      <td>1</td>\n",
       "      <td>29.1</td>\n",
       "      <td>38514</td>\n",
       "    </tr>\n",
       "    <tr>\n",
       "      <td>5</td>\n",
       "      <td>6</td>\n",
       "      <td>1</td>\n",
       "      <td>62.0</td>\n",
       "      <td>9.9</td>\n",
       "      <td>39.3</td>\n",
       "      <td>1.4</td>\n",
       "      <td>19.1</td>\n",
       "      <td>19.8</td>\n",
       "      <td>19.3</td>\n",
       "      <td>74.2</td>\n",
       "      <td>1</td>\n",
       "      <td>34.7</td>\n",
       "      <td>35407</td>\n",
       "    </tr>\n",
       "    <tr>\n",
       "      <td>6</td>\n",
       "      <td>7</td>\n",
       "      <td>1</td>\n",
       "      <td>61.4</td>\n",
       "      <td>3.0</td>\n",
       "      <td>8.8</td>\n",
       "      <td>1.3</td>\n",
       "      <td>20.7</td>\n",
       "      <td>6.6</td>\n",
       "      <td>10.5</td>\n",
       "      <td>56.0</td>\n",
       "      <td>1</td>\n",
       "      <td>22.2</td>\n",
       "      <td>46779</td>\n",
       "    </tr>\n",
       "    <tr>\n",
       "      <td>7</td>\n",
       "      <td>8</td>\n",
       "      <td>1</td>\n",
       "      <td>53.6</td>\n",
       "      <td>2.0</td>\n",
       "      <td>20.5</td>\n",
       "      <td>0.9</td>\n",
       "      <td>9.9</td>\n",
       "      <td>11.5</td>\n",
       "      <td>8.6</td>\n",
       "      <td>56.6</td>\n",
       "      <td>3</td>\n",
       "      <td>18.9</td>\n",
       "      <td>59329</td>\n",
       "    </tr>\n",
       "    <tr>\n",
       "      <td>8</td>\n",
       "      <td>9</td>\n",
       "      <td>1</td>\n",
       "      <td>53.1</td>\n",
       "      <td>5.0</td>\n",
       "      <td>0.0</td>\n",
       "      <td>1.8</td>\n",
       "      <td>29.2</td>\n",
       "      <td>11.8</td>\n",
       "      <td>12.0</td>\n",
       "      <td>33.8</td>\n",
       "      <td>1</td>\n",
       "      <td>26.2</td>\n",
       "      <td>46411</td>\n",
       "    </tr>\n",
       "    <tr>\n",
       "      <td>9</td>\n",
       "      <td>10</td>\n",
       "      <td>1</td>\n",
       "      <td>51.0</td>\n",
       "      <td>3.0</td>\n",
       "      <td>8.8</td>\n",
       "      <td>1.3</td>\n",
       "      <td>20.7</td>\n",
       "      <td>6.6</td>\n",
       "      <td>10.5</td>\n",
       "      <td>56.0</td>\n",
       "      <td>1</td>\n",
       "      <td>22.2</td>\n",
       "      <td>46779</td>\n",
       "    </tr>\n",
       "  </tbody>\n",
       "</table>\n",
       "</div>"
      ],
      "text/plain": [
       "   id  EOG_quintile  percent_EDS  child_abuse_rate  children_conc_pov  parent  \\\n",
       "0   1             1          4.0               1.8                3.1     1.2   \n",
       "1   2             1          4.0               1.8                3.1     1.2   \n",
       "2   3             1          4.0               5.8                7.1     0.8   \n",
       "3   4             1          4.0               2.2               12.9     0.8   \n",
       "4   5             1         66.2               0.5               26.6     2.4   \n",
       "5   6             1         62.0               9.9               39.3     1.4   \n",
       "6   7             1         61.4               3.0                8.8     1.3   \n",
       "7   8             1         53.6               2.0               20.5     0.9   \n",
       "8   9             1         53.1               5.0                0.0     1.8   \n",
       "9  10             1         51.0               3.0                8.8     1.3   \n",
       "\n",
       "   juv_delinquent  No_HSdegree  parent_unemployed  county_poc  county_tier  \\\n",
       "0             6.7          5.9                4.0        39.1            3   \n",
       "1             6.7          5.9                4.0        39.1            3   \n",
       "2            24.8          8.8                6.0        23.3            3   \n",
       "3            17.5          8.6                4.9        52.7            3   \n",
       "4            31.8         17.9               14.7        42.4            1   \n",
       "5            19.1         19.8               19.3        74.2            1   \n",
       "6            20.7          6.6               10.5        56.0            1   \n",
       "7             9.9         11.5                8.6        56.6            3   \n",
       "8            29.2         11.8               12.0        33.8            1   \n",
       "9            20.7          6.6               10.5        56.0            1   \n",
       "\n",
       "   poverty_county  median_inc_county  \n",
       "0             9.7              80169  \n",
       "1             9.7              80169  \n",
       "2            13.0              60044  \n",
       "3            16.4              64509  \n",
       "4            29.1              38514  \n",
       "5            34.7              35407  \n",
       "6            22.2              46779  \n",
       "7            18.9              59329  \n",
       "8            26.2              46411  \n",
       "9            22.2              46779  "
      ]
     },
     "execution_count": 38,
     "metadata": {},
     "output_type": "execute_result"
    }
   ],
   "source": [
    "df = pd.read_csv(\"main_data_for_ML.csv\")\n",
    "df.head(10)"
   ]
  },
  {
   "cell_type": "markdown",
   "metadata": {
    "slideshow": {
     "slide_type": "subslide"
    }
   },
   "source": [
    "## Data Pre-Processing"
   ]
  },
  {
   "cell_type": "code",
   "execution_count": 39,
   "metadata": {
    "nbgrader": {
     "grade": false,
     "grade_id": "cell-86a9e3212f200d21",
     "locked": false,
     "schema_version": 1,
     "solution": true
    },
    "slideshow": {
     "slide_type": "subslide"
    }
   },
   "outputs": [
    {
     "name": "stdout",
     "output_type": "stream",
     "text": [
      "(2492, 13)\n"
     ]
    }
   ],
   "source": [
    "X = df\n",
    "y = df[\"EOG_quintile\"]\n",
    "print(X.shape)"
   ]
  },
  {
   "cell_type": "code",
   "execution_count": 40,
   "metadata": {
    "nbgrader": {
     "grade": false,
     "grade_id": "cell-711a82d9b32c83ff",
     "locked": false,
     "schema_version": 1,
     "solution": true
    },
    "slideshow": {
     "slide_type": "fragment"
    }
   },
   "outputs": [],
   "source": [
    "from sklearn.model_selection import train_test_split\n",
    "from sklearn.preprocessing import LabelEncoder, MinMaxScaler\n",
    "from tensorflow.keras.utils import to_categorical"
   ]
  },
  {
   "cell_type": "code",
   "execution_count": 41,
   "metadata": {
    "nbgrader": {
     "grade": false,
     "grade_id": "cell-711a82d9b32c83ff",
     "locked": false,
     "schema_version": 1,
     "solution": true
    },
    "slideshow": {
     "slide_type": "fragment"
    }
   },
   "outputs": [
    {
     "data": {
      "text/plain": [
       "(1246, 11)"
      ]
     },
     "execution_count": 41,
     "metadata": {},
     "output_type": "execute_result"
    }
   ],
   "source": [
    "X_train_with_id, X_test_with_id, y_train, y_test = train_test_split(\n",
    "    X, y, random_state=1, stratify=y,train_size=0.5)\n",
    "X_train = X_train_with_id.drop([\"id\",\"EOG_quintile\"],axis=1)\n",
    "X_test = X_test_with_id.drop([\"id\",\"EOG_quintile\"],axis=1)\n",
    "X_train.shape"
   ]
  },
  {
   "cell_type": "code",
   "execution_count": 42,
   "metadata": {
    "nbgrader": {
     "grade": false,
     "grade_id": "cell-711a82d9b32c83ff",
     "locked": false,
     "schema_version": 1,
     "solution": true
    },
    "scrolled": true,
    "slideshow": {
     "slide_type": "fragment"
    }
   },
   "outputs": [],
   "source": [
    "X_scaler = MinMaxScaler().fit(X_train)\n",
    "X_train_scaled = X_scaler.transform(X_train)\n",
    "X_test_scaled = X_scaler.transform(X_test)"
   ]
  },
  {
   "cell_type": "code",
   "execution_count": null,
   "metadata": {},
   "outputs": [],
   "source": []
  },
  {
   "cell_type": "code",
   "execution_count": 43,
   "metadata": {
    "nbgrader": {
     "grade": false,
     "grade_id": "cell-711a82d9b32c83ff",
     "locked": false,
     "schema_version": 1,
     "solution": true
    },
    "slideshow": {
     "slide_type": "fragment"
    }
   },
   "outputs": [],
   "source": [
    "# Step 1: Label-encode data set\n",
    "label_encoder = LabelEncoder()\n",
    "label_encoder.fit(y_train)\n",
    "encoded_y_train = label_encoder.transform(y_train)\n",
    "encoded_y_test = label_encoder.transform(y_test)"
   ]
  },
  {
   "cell_type": "code",
   "execution_count": 44,
   "metadata": {
    "nbgrader": {
     "grade": false,
     "grade_id": "cell-711a82d9b32c83ff",
     "locked": false,
     "schema_version": 1,
     "solution": true
    },
    "slideshow": {
     "slide_type": "fragment"
    }
   },
   "outputs": [],
   "source": [
    "# Step 2: Convert encoded labels to one-hot-encoding\n",
    "y_train_categorical = to_categorical(encoded_y_train)\n",
    "y_test_categorical = to_categorical(encoded_y_test)"
   ]
  },
  {
   "cell_type": "markdown",
   "metadata": {},
   "source": [
    "# Create a Deep Learning Model"
   ]
  },
  {
   "cell_type": "code",
   "execution_count": 45,
   "metadata": {},
   "outputs": [],
   "source": [
    "from tensorflow.keras.models import Sequential\n",
    "from tensorflow.keras.layers import Dense"
   ]
  },
  {
   "cell_type": "code",
   "execution_count": 46,
   "metadata": {},
   "outputs": [],
   "source": [
    "# Create model and add layers\n",
    "model = Sequential()\n",
    "model.add(Dense(units=100, activation='relu', input_dim=11))\n",
    "model.add(Dense(units=100, activation='relu'))\n",
    "model.add(Dense(units=5, activation='softmax'))"
   ]
  },
  {
   "cell_type": "code",
   "execution_count": 47,
   "metadata": {},
   "outputs": [],
   "source": [
    "# Compile and fit the model\n",
    "model.compile(optimizer='adam',\n",
    "              loss='categorical_crossentropy',\n",
    "              metrics=['accuracy'])"
   ]
  },
  {
   "cell_type": "code",
   "execution_count": 48,
   "metadata": {},
   "outputs": [
    {
     "name": "stdout",
     "output_type": "stream",
     "text": [
      "Model: \"sequential_1\"\n",
      "_________________________________________________________________\n",
      "Layer (type)                 Output Shape              Param #   \n",
      "=================================================================\n",
      "dense_3 (Dense)              (None, 100)               1200      \n",
      "_________________________________________________________________\n",
      "dense_4 (Dense)              (None, 100)               10100     \n",
      "_________________________________________________________________\n",
      "dense_5 (Dense)              (None, 5)                 505       \n",
      "=================================================================\n",
      "Total params: 11,805\n",
      "Trainable params: 11,805\n",
      "Non-trainable params: 0\n",
      "_________________________________________________________________\n"
     ]
    }
   ],
   "source": [
    "model.summary()"
   ]
  },
  {
   "cell_type": "code",
   "execution_count": 49,
   "metadata": {},
   "outputs": [
    {
     "name": "stdout",
     "output_type": "stream",
     "text": [
      "Epoch 1/60\n",
      "1246/1246 - 0s - loss: 1.4195 - acc: 0.3820\n",
      "Epoch 2/60\n",
      "1246/1246 - 0s - loss: 1.2272 - acc: 0.4864\n",
      "Epoch 3/60\n",
      "1246/1246 - 0s - loss: 1.1453 - acc: 0.5249\n",
      "Epoch 4/60\n",
      "1246/1246 - 0s - loss: 1.0854 - acc: 0.5425\n",
      "Epoch 5/60\n",
      "1246/1246 - 0s - loss: 1.0524 - acc: 0.5433\n",
      "Epoch 6/60\n",
      "1246/1246 - 0s - loss: 1.0292 - acc: 0.5514\n",
      "Epoch 7/60\n",
      "1246/1246 - 0s - loss: 1.0145 - acc: 0.5642\n",
      "Epoch 8/60\n",
      "1246/1246 - 0s - loss: 1.0065 - acc: 0.5666\n",
      "Epoch 9/60\n",
      "1246/1246 - 0s - loss: 1.0003 - acc: 0.5658\n",
      "Epoch 10/60\n",
      "1246/1246 - 0s - loss: 0.9892 - acc: 0.5706\n",
      "Epoch 11/60\n",
      "1246/1246 - 0s - loss: 0.9886 - acc: 0.5730\n",
      "Epoch 12/60\n",
      "1246/1246 - 0s - loss: 0.9845 - acc: 0.5787\n",
      "Epoch 13/60\n",
      "1246/1246 - 0s - loss: 0.9755 - acc: 0.5835\n",
      "Epoch 14/60\n",
      "1246/1246 - 0s - loss: 0.9810 - acc: 0.5706\n",
      "Epoch 15/60\n",
      "1246/1246 - 0s - loss: 0.9792 - acc: 0.5819\n",
      "Epoch 16/60\n",
      "1246/1246 - 0s - loss: 0.9707 - acc: 0.5859\n",
      "Epoch 17/60\n",
      "1246/1246 - 0s - loss: 0.9631 - acc: 0.5907\n",
      "Epoch 18/60\n",
      "1246/1246 - 0s - loss: 0.9611 - acc: 0.5883\n",
      "Epoch 19/60\n",
      "1246/1246 - 0s - loss: 0.9633 - acc: 0.5778\n",
      "Epoch 20/60\n",
      "1246/1246 - 0s - loss: 0.9567 - acc: 0.5939\n",
      "Epoch 21/60\n",
      "1246/1246 - 0s - loss: 0.9534 - acc: 0.5939\n",
      "Epoch 22/60\n",
      "1246/1246 - 0s - loss: 0.9509 - acc: 0.5963\n",
      "Epoch 23/60\n",
      "1246/1246 - 0s - loss: 0.9483 - acc: 0.5947\n",
      "Epoch 24/60\n",
      "1246/1246 - 0s - loss: 0.9567 - acc: 0.5859\n",
      "Epoch 25/60\n",
      "1246/1246 - 0s - loss: 0.9440 - acc: 0.6003\n",
      "Epoch 26/60\n",
      "1246/1246 - 0s - loss: 0.9466 - acc: 0.5923\n",
      "Epoch 27/60\n",
      "1246/1246 - 0s - loss: 0.9437 - acc: 0.5931\n",
      "Epoch 28/60\n",
      "1246/1246 - 0s - loss: 0.9389 - acc: 0.5971\n",
      "Epoch 29/60\n",
      "1246/1246 - 0s - loss: 0.9357 - acc: 0.5979\n",
      "Epoch 30/60\n",
      "1246/1246 - 0s - loss: 0.9368 - acc: 0.5835\n",
      "Epoch 31/60\n",
      "1246/1246 - 0s - loss: 0.9385 - acc: 0.5971\n",
      "Epoch 32/60\n",
      "1246/1246 - 0s - loss: 0.9320 - acc: 0.5939\n",
      "Epoch 33/60\n",
      "1246/1246 - 0s - loss: 0.9296 - acc: 0.5979\n",
      "Epoch 34/60\n",
      "1246/1246 - 0s - loss: 0.9301 - acc: 0.6011\n",
      "Epoch 35/60\n",
      "1246/1246 - 0s - loss: 0.9269 - acc: 0.5939\n",
      "Epoch 36/60\n",
      "1246/1246 - 0s - loss: 0.9236 - acc: 0.5963\n",
      "Epoch 37/60\n",
      "1246/1246 - 0s - loss: 0.9340 - acc: 0.5971\n",
      "Epoch 38/60\n",
      "1246/1246 - 0s - loss: 0.9251 - acc: 0.6043\n",
      "Epoch 39/60\n",
      "1246/1246 - 0s - loss: 0.9190 - acc: 0.6019\n",
      "Epoch 40/60\n",
      "1246/1246 - 0s - loss: 0.9198 - acc: 0.6116\n",
      "Epoch 41/60\n",
      "1246/1246 - 0s - loss: 0.9165 - acc: 0.5971\n",
      "Epoch 42/60\n",
      "1246/1246 - 0s - loss: 0.9175 - acc: 0.5987\n",
      "Epoch 43/60\n",
      "1246/1246 - 0s - loss: 0.9136 - acc: 0.5939\n",
      "Epoch 44/60\n",
      "1246/1246 - 0s - loss: 0.9129 - acc: 0.6075\n",
      "Epoch 45/60\n",
      "1246/1246 - 0s - loss: 0.9107 - acc: 0.6091\n",
      "Epoch 46/60\n",
      "1246/1246 - 0s - loss: 0.9080 - acc: 0.6116\n",
      "Epoch 47/60\n",
      "1246/1246 - 0s - loss: 0.9125 - acc: 0.6059\n",
      "Epoch 48/60\n",
      "1246/1246 - 0s - loss: 0.9105 - acc: 0.6116\n",
      "Epoch 49/60\n",
      "1246/1246 - 0s - loss: 0.9102 - acc: 0.6003\n",
      "Epoch 50/60\n",
      "1246/1246 - 0s - loss: 0.9121 - acc: 0.6059\n",
      "Epoch 51/60\n",
      "1246/1246 - 0s - loss: 0.9007 - acc: 0.6124\n",
      "Epoch 52/60\n",
      "1246/1246 - 0s - loss: 0.9006 - acc: 0.6091\n",
      "Epoch 53/60\n",
      "1246/1246 - 0s - loss: 0.8991 - acc: 0.6051\n",
      "Epoch 54/60\n",
      "1246/1246 - 0s - loss: 0.8986 - acc: 0.6148\n",
      "Epoch 55/60\n",
      "1246/1246 - 0s - loss: 0.8996 - acc: 0.6132\n",
      "Epoch 56/60\n",
      "1246/1246 - 0s - loss: 0.8995 - acc: 0.6100\n",
      "Epoch 57/60\n",
      "1246/1246 - 0s - loss: 0.8933 - acc: 0.6204\n",
      "Epoch 58/60\n",
      "1246/1246 - 0s - loss: 0.8927 - acc: 0.6204\n",
      "Epoch 59/60\n",
      "1246/1246 - 0s - loss: 0.8925 - acc: 0.6212\n",
      "Epoch 60/60\n",
      "1246/1246 - 0s - loss: 0.8958 - acc: 0.6059\n"
     ]
    },
    {
     "data": {
      "text/plain": [
       "<tensorflow.python.keras.callbacks.History at 0x17b14dbcc88>"
      ]
     },
     "execution_count": 49,
     "metadata": {},
     "output_type": "execute_result"
    }
   ],
   "source": [
    "model.fit(\n",
    "    X_train_scaled,\n",
    "    y_train_categorical,\n",
    "    epochs=60,\n",
    "    shuffle=True,\n",
    "    verbose=2\n",
    ")"
   ]
  },
  {
   "cell_type": "markdown",
   "metadata": {},
   "source": [
    "## Quantify our Trained Model"
   ]
  },
  {
   "cell_type": "code",
   "execution_count": 50,
   "metadata": {},
   "outputs": [
    {
     "name": "stdout",
     "output_type": "stream",
     "text": [
      "1246/1246 - 0s - loss: 0.9880 - acc: 0.5947\n",
      "Normal Neural Network - Loss: 0.9880268306831679, Accuracy: 0.5947030782699585\n"
     ]
    }
   ],
   "source": [
    "model_loss, model_accuracy = model.evaluate(\n",
    "    X_test_scaled, y_test_categorical, verbose=2)\n",
    "print(\n",
    "    f\"Normal Neural Network - Loss: {model_loss}, Accuracy: {model_accuracy}\")"
   ]
  },
  {
   "cell_type": "markdown",
   "metadata": {
    "slideshow": {
     "slide_type": "subslide"
    }
   },
   "source": [
    "## Make Predictions"
   ]
  },
  {
   "cell_type": "code",
   "execution_count": 51,
   "metadata": {
    "nbgrader": {
     "grade": false,
     "grade_id": "cell-f97eb3e97245187b",
     "locked": false,
     "schema_version": 1,
     "solution": true
    },
    "slideshow": {
     "slide_type": "fragment"
    }
   },
   "outputs": [
    {
     "data": {
      "text/plain": [
       "1246"
      ]
     },
     "execution_count": 51,
     "metadata": {},
     "output_type": "execute_result"
    }
   ],
   "source": [
    "encoded_predictions = model.predict_classes(X_test_scaled)\n",
    "prediction_labels = label_encoder.inverse_transform(encoded_predictions)\n",
    "prediction_labels.size"
   ]
  },
  {
   "cell_type": "code",
   "execution_count": 52,
   "metadata": {},
   "outputs": [],
   "source": [
    "#print(f\"Predicted classes: {prediction_labels}\")\n",
    "#print(f\"Actual Labels: {list(y_test[:20])}\")"
   ]
  },
  {
   "cell_type": "code",
   "execution_count": 53,
   "metadata": {},
   "outputs": [
    {
     "name": "stderr",
     "output_type": "stream",
     "text": [
      "C:\\Users\\petef\\Anaconda3\\envs\\PythonData\\lib\\site-packages\\ipykernel_launcher.py:4: SettingWithCopyWarning: \n",
      "A value is trying to be set on a copy of a slice from a DataFrame.\n",
      "Try using .loc[row_indexer,col_indexer] = value instead\n",
      "\n",
      "See the caveats in the documentation: http://pandas.pydata.org/pandas-docs/stable/user_guide/indexing.html#returning-a-view-versus-a-copy\n",
      "  after removing the cwd from sys.path.\n"
     ]
    },
    {
     "data": {
      "text/html": [
       "<div>\n",
       "<style scoped>\n",
       "    .dataframe tbody tr th:only-of-type {\n",
       "        vertical-align: middle;\n",
       "    }\n",
       "\n",
       "    .dataframe tbody tr th {\n",
       "        vertical-align: top;\n",
       "    }\n",
       "\n",
       "    .dataframe thead th {\n",
       "        text-align: right;\n",
       "    }\n",
       "</style>\n",
       "<table border=\"1\" class=\"dataframe\">\n",
       "  <thead>\n",
       "    <tr style=\"text-align: right;\">\n",
       "      <th></th>\n",
       "      <th>id</th>\n",
       "      <th>EOG_quintile</th>\n",
       "      <th>percent_EDS</th>\n",
       "      <th>child_abuse_rate</th>\n",
       "      <th>children_conc_pov</th>\n",
       "      <th>parent</th>\n",
       "      <th>juv_delinquent</th>\n",
       "      <th>No_HSdegree</th>\n",
       "      <th>parent_unemployed</th>\n",
       "      <th>county_poc</th>\n",
       "      <th>county_tier</th>\n",
       "      <th>poverty_county</th>\n",
       "      <th>median_inc_county</th>\n",
       "      <th>predictedEOG</th>\n",
       "    </tr>\n",
       "  </thead>\n",
       "  <tbody>\n",
       "    <tr>\n",
       "      <td>1820</td>\n",
       "      <td>1821</td>\n",
       "      <td>3</td>\n",
       "      <td>65.9</td>\n",
       "      <td>0.7</td>\n",
       "      <td>5.3</td>\n",
       "      <td>1.3</td>\n",
       "      <td>7.8</td>\n",
       "      <td>5.9</td>\n",
       "      <td>3.3</td>\n",
       "      <td>29.4</td>\n",
       "      <td>3</td>\n",
       "      <td>9.2</td>\n",
       "      <td>71920</td>\n",
       "      <td>3</td>\n",
       "    </tr>\n",
       "    <tr>\n",
       "      <td>1409</td>\n",
       "      <td>1410</td>\n",
       "      <td>3</td>\n",
       "      <td>41.5</td>\n",
       "      <td>0.7</td>\n",
       "      <td>5.3</td>\n",
       "      <td>1.3</td>\n",
       "      <td>7.8</td>\n",
       "      <td>5.9</td>\n",
       "      <td>3.3</td>\n",
       "      <td>29.4</td>\n",
       "      <td>3</td>\n",
       "      <td>9.2</td>\n",
       "      <td>71920</td>\n",
       "      <td>3</td>\n",
       "    </tr>\n",
       "    <tr>\n",
       "      <td>436</td>\n",
       "      <td>437</td>\n",
       "      <td>2</td>\n",
       "      <td>32.3</td>\n",
       "      <td>3.3</td>\n",
       "      <td>12.3</td>\n",
       "      <td>1.0</td>\n",
       "      <td>17.6</td>\n",
       "      <td>15.1</td>\n",
       "      <td>8.7</td>\n",
       "      <td>19.3</td>\n",
       "      <td>2</td>\n",
       "      <td>20.0</td>\n",
       "      <td>47758</td>\n",
       "      <td>2</td>\n",
       "    </tr>\n",
       "    <tr>\n",
       "      <td>1875</td>\n",
       "      <td>1876</td>\n",
       "      <td>3</td>\n",
       "      <td>80.3</td>\n",
       "      <td>0.2</td>\n",
       "      <td>18.6</td>\n",
       "      <td>1.1</td>\n",
       "      <td>22.1</td>\n",
       "      <td>9.1</td>\n",
       "      <td>8.0</td>\n",
       "      <td>49.3</td>\n",
       "      <td>2</td>\n",
       "      <td>22.1</td>\n",
       "      <td>52166</td>\n",
       "      <td>4</td>\n",
       "    </tr>\n",
       "    <tr>\n",
       "      <td>1863</td>\n",
       "      <td>1864</td>\n",
       "      <td>3</td>\n",
       "      <td>52.0</td>\n",
       "      <td>4.4</td>\n",
       "      <td>16.0</td>\n",
       "      <td>1.6</td>\n",
       "      <td>21.2</td>\n",
       "      <td>12.6</td>\n",
       "      <td>8.6</td>\n",
       "      <td>35.8</td>\n",
       "      <td>2</td>\n",
       "      <td>18.3</td>\n",
       "      <td>50480</td>\n",
       "      <td>3</td>\n",
       "    </tr>\n",
       "  </tbody>\n",
       "</table>\n",
       "</div>"
      ],
      "text/plain": [
       "        id  EOG_quintile  percent_EDS  child_abuse_rate  children_conc_pov  \\\n",
       "1820  1821             3         65.9               0.7                5.3   \n",
       "1409  1410             3         41.5               0.7                5.3   \n",
       "436    437             2         32.3               3.3               12.3   \n",
       "1875  1876             3         80.3               0.2               18.6   \n",
       "1863  1864             3         52.0               4.4               16.0   \n",
       "\n",
       "      parent  juv_delinquent  No_HSdegree  parent_unemployed  county_poc  \\\n",
       "1820     1.3             7.8          5.9                3.3        29.4   \n",
       "1409     1.3             7.8          5.9                3.3        29.4   \n",
       "436      1.0            17.6         15.1                8.7        19.3   \n",
       "1875     1.1            22.1          9.1                8.0        49.3   \n",
       "1863     1.6            21.2         12.6                8.6        35.8   \n",
       "\n",
       "      county_tier  poverty_county  median_inc_county  predictedEOG  \n",
       "1820            3             9.2              71920             3  \n",
       "1409            3             9.2              71920             3  \n",
       "436             2            20.0              47758             2  \n",
       "1875            2            22.1              52166             4  \n",
       "1863            2            18.3              50480             3  "
      ]
     },
     "execution_count": 53,
     "metadata": {},
     "output_type": "execute_result"
    }
   ],
   "source": [
    "#zip id back into the array and export\n",
    "\n",
    "#X_test_withID.addColumn('pred', prediction_labels)\n",
    "X_test_with_id['predictedEOG'] = prediction_labels.tolist()\n",
    "X_test_with_id.head()"
   ]
  },
  {
   "cell_type": "code",
   "execution_count": 55,
   "metadata": {},
   "outputs": [],
   "source": [
    "X_test_with_id.to_csv('main_data_test_result.csv')"
   ]
  },
  {
   "cell_type": "code",
   "execution_count": null,
   "metadata": {},
   "outputs": [],
   "source": []
  }
 ],
 "metadata": {
  "kernelspec": {
   "display_name": "Python [conda env:PythonData] *",
   "language": "python",
   "name": "conda-env-PythonData-py"
  },
  "language_info": {
   "codemirror_mode": {
    "name": "ipython",
    "version": 3
   },
   "file_extension": ".py",
   "mimetype": "text/x-python",
   "name": "python",
   "nbconvert_exporter": "python",
   "pygments_lexer": "ipython3",
   "version": "3.6.9"
  },
  "varInspector": {
   "cols": {
    "lenName": 16,
    "lenType": 16,
    "lenVar": 40
   },
   "kernels_config": {
    "python": {
     "delete_cmd_postfix": "",
     "delete_cmd_prefix": "del ",
     "library": "var_list.py",
     "varRefreshCmd": "print(var_dic_list())"
    },
    "r": {
     "delete_cmd_postfix": ") ",
     "delete_cmd_prefix": "rm(",
     "library": "var_list.r",
     "varRefreshCmd": "cat(var_dic_list()) "
    }
   },
   "types_to_exclude": [
    "module",
    "function",
    "builtin_function_or_method",
    "instance",
    "_Feature"
   ],
   "window_display": false
  }
 },
 "nbformat": 4,
 "nbformat_minor": 2
}
