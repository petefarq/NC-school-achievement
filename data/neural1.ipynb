{
 "cells": [
  {
   "cell_type": "code",
   "execution_count": 1,
   "metadata": {},
   "outputs": [],
   "source": [
    "# Set the seed value for the notebook so the results are reproducible\n",
    "from numpy.random import seed\n",
    "seed(1)"
   ]
  },
  {
   "cell_type": "code",
   "execution_count": 2,
   "metadata": {
    "slideshow": {
     "slide_type": "subslide"
    }
   },
   "outputs": [],
   "source": [
    "# Dependencies\n",
    "import numpy as np\n",
    "import pandas as pd"
   ]
  },
  {
   "cell_type": "code",
   "execution_count": 3,
   "metadata": {},
   "outputs": [
    {
     "data": {
      "text/plain": [
       "'2.2.4-tf'"
      ]
     },
     "execution_count": 3,
     "metadata": {},
     "output_type": "execute_result"
    }
   ],
   "source": [
    "import tensorflow\n",
    "tensorflow.keras.__version__"
   ]
  },
  {
   "cell_type": "code",
   "execution_count": 4,
   "metadata": {
    "slideshow": {
     "slide_type": "fragment"
    }
   },
   "outputs": [
    {
     "data": {
      "text/html": [
       "<div>\n",
       "<style scoped>\n",
       "    .dataframe tbody tr th:only-of-type {\n",
       "        vertical-align: middle;\n",
       "    }\n",
       "\n",
       "    .dataframe tbody tr th {\n",
       "        vertical-align: top;\n",
       "    }\n",
       "\n",
       "    .dataframe thead th {\n",
       "        text-align: right;\n",
       "    }\n",
       "</style>\n",
       "<table border=\"1\" class=\"dataframe\">\n",
       "  <thead>\n",
       "    <tr style=\"text-align: right;\">\n",
       "      <th></th>\n",
       "      <th>EOG_quintile</th>\n",
       "      <th>percent_EDS</th>\n",
       "      <th>child_abuse_rate</th>\n",
       "      <th>children_conc_pov</th>\n",
       "      <th>elevated_lead</th>\n",
       "      <th>juv_delinquent</th>\n",
       "      <th>No_HSdegree</th>\n",
       "      <th>parent_unemployed</th>\n",
       "      <th>county_poc</th>\n",
       "      <th>county_tier</th>\n",
       "      <th>poverty_county</th>\n",
       "      <th>median_inc_county</th>\n",
       "    </tr>\n",
       "  </thead>\n",
       "  <tbody>\n",
       "    <tr>\n",
       "      <td>0</td>\n",
       "      <td>4</td>\n",
       "      <td>96.0</td>\n",
       "      <td>4.2</td>\n",
       "      <td>21.2</td>\n",
       "      <td>1.7</td>\n",
       "      <td>13.7</td>\n",
       "      <td>13.5</td>\n",
       "      <td>11.3</td>\n",
       "      <td>50.3</td>\n",
       "      <td>1</td>\n",
       "      <td>37.2</td>\n",
       "      <td>40433</td>\n",
       "    </tr>\n",
       "    <tr>\n",
       "      <td>1</td>\n",
       "      <td>4</td>\n",
       "      <td>96.0</td>\n",
       "      <td>6.3</td>\n",
       "      <td>18.9</td>\n",
       "      <td>1.3</td>\n",
       "      <td>11.5</td>\n",
       "      <td>6.3</td>\n",
       "      <td>8.3</td>\n",
       "      <td>21.6</td>\n",
       "      <td>3</td>\n",
       "      <td>20.0</td>\n",
       "      <td>53419</td>\n",
       "    </tr>\n",
       "    <tr>\n",
       "      <td>2</td>\n",
       "      <td>3</td>\n",
       "      <td>96.0</td>\n",
       "      <td>2.0</td>\n",
       "      <td>20.5</td>\n",
       "      <td>0.9</td>\n",
       "      <td>9.9</td>\n",
       "      <td>11.5</td>\n",
       "      <td>8.6</td>\n",
       "      <td>56.6</td>\n",
       "      <td>3</td>\n",
       "      <td>18.9</td>\n",
       "      <td>59329</td>\n",
       "    </tr>\n",
       "    <tr>\n",
       "      <td>3</td>\n",
       "      <td>4</td>\n",
       "      <td>96.0</td>\n",
       "      <td>9.9</td>\n",
       "      <td>39.3</td>\n",
       "      <td>1.4</td>\n",
       "      <td>19.1</td>\n",
       "      <td>19.8</td>\n",
       "      <td>19.3</td>\n",
       "      <td>74.2</td>\n",
       "      <td>1</td>\n",
       "      <td>34.7</td>\n",
       "      <td>35407</td>\n",
       "    </tr>\n",
       "    <tr>\n",
       "      <td>4</td>\n",
       "      <td>4</td>\n",
       "      <td>4.0</td>\n",
       "      <td>1.1</td>\n",
       "      <td>27.9</td>\n",
       "      <td>1.5</td>\n",
       "      <td>23.3</td>\n",
       "      <td>9.8</td>\n",
       "      <td>9.5</td>\n",
       "      <td>42.7</td>\n",
       "      <td>2</td>\n",
       "      <td>23.0</td>\n",
       "      <td>50112</td>\n",
       "    </tr>\n",
       "    <tr>\n",
       "      <td>5</td>\n",
       "      <td>1</td>\n",
       "      <td>4.0</td>\n",
       "      <td>3.0</td>\n",
       "      <td>0.0</td>\n",
       "      <td>2.6</td>\n",
       "      <td>22.8</td>\n",
       "      <td>10.2</td>\n",
       "      <td>2.8</td>\n",
       "      <td>11.5</td>\n",
       "      <td>3</td>\n",
       "      <td>12.4</td>\n",
       "      <td>64426</td>\n",
       "    </tr>\n",
       "    <tr>\n",
       "      <td>6</td>\n",
       "      <td>1</td>\n",
       "      <td>4.0</td>\n",
       "      <td>2.2</td>\n",
       "      <td>22.5</td>\n",
       "      <td>1.9</td>\n",
       "      <td>18.4</td>\n",
       "      <td>16.7</td>\n",
       "      <td>12.7</td>\n",
       "      <td>52.5</td>\n",
       "      <td>1</td>\n",
       "      <td>29.6</td>\n",
       "      <td>44015</td>\n",
       "    </tr>\n",
       "    <tr>\n",
       "      <td>7</td>\n",
       "      <td>1</td>\n",
       "      <td>4.0</td>\n",
       "      <td>1.8</td>\n",
       "      <td>3.1</td>\n",
       "      <td>1.2</td>\n",
       "      <td>6.7</td>\n",
       "      <td>5.9</td>\n",
       "      <td>4.0</td>\n",
       "      <td>39.1</td>\n",
       "      <td>3</td>\n",
       "      <td>9.7</td>\n",
       "      <td>80169</td>\n",
       "    </tr>\n",
       "    <tr>\n",
       "      <td>8</td>\n",
       "      <td>3</td>\n",
       "      <td>4.0</td>\n",
       "      <td>0.8</td>\n",
       "      <td>11.8</td>\n",
       "      <td>1.0</td>\n",
       "      <td>4.8</td>\n",
       "      <td>12.6</td>\n",
       "      <td>9.2</td>\n",
       "      <td>35.7</td>\n",
       "      <td>2</td>\n",
       "      <td>18.7</td>\n",
       "      <td>57710</td>\n",
       "    </tr>\n",
       "    <tr>\n",
       "      <td>9</td>\n",
       "      <td>1</td>\n",
       "      <td>4.0</td>\n",
       "      <td>1.8</td>\n",
       "      <td>3.1</td>\n",
       "      <td>1.2</td>\n",
       "      <td>6.7</td>\n",
       "      <td>5.9</td>\n",
       "      <td>4.0</td>\n",
       "      <td>39.1</td>\n",
       "      <td>3</td>\n",
       "      <td>9.7</td>\n",
       "      <td>80169</td>\n",
       "    </tr>\n",
       "  </tbody>\n",
       "</table>\n",
       "</div>"
      ],
      "text/plain": [
       "   EOG_quintile  percent_EDS  child_abuse_rate  children_conc_pov  \\\n",
       "0             4         96.0               4.2               21.2   \n",
       "1             4         96.0               6.3               18.9   \n",
       "2             3         96.0               2.0               20.5   \n",
       "3             4         96.0               9.9               39.3   \n",
       "4             4          4.0               1.1               27.9   \n",
       "5             1          4.0               3.0                0.0   \n",
       "6             1          4.0               2.2               22.5   \n",
       "7             1          4.0               1.8                3.1   \n",
       "8             3          4.0               0.8               11.8   \n",
       "9             1          4.0               1.8                3.1   \n",
       "\n",
       "   elevated_lead  juv_delinquent  No_HSdegree  parent_unemployed  county_poc  \\\n",
       "0            1.7            13.7         13.5               11.3        50.3   \n",
       "1            1.3            11.5          6.3                8.3        21.6   \n",
       "2            0.9             9.9         11.5                8.6        56.6   \n",
       "3            1.4            19.1         19.8               19.3        74.2   \n",
       "4            1.5            23.3          9.8                9.5        42.7   \n",
       "5            2.6            22.8         10.2                2.8        11.5   \n",
       "6            1.9            18.4         16.7               12.7        52.5   \n",
       "7            1.2             6.7          5.9                4.0        39.1   \n",
       "8            1.0             4.8         12.6                9.2        35.7   \n",
       "9            1.2             6.7          5.9                4.0        39.1   \n",
       "\n",
       "   county_tier  poverty_county  median_inc_county  \n",
       "0            1            37.2              40433  \n",
       "1            3            20.0              53419  \n",
       "2            3            18.9              59329  \n",
       "3            1            34.7              35407  \n",
       "4            2            23.0              50112  \n",
       "5            3            12.4              64426  \n",
       "6            1            29.6              44015  \n",
       "7            3             9.7              80169  \n",
       "8            2            18.7              57710  \n",
       "9            3             9.7              80169  "
      ]
     },
     "execution_count": 4,
     "metadata": {},
     "output_type": "execute_result"
    }
   ],
   "source": [
    "df = pd.read_csv(\"main_data_tree.csv\")\n",
    "df.head(10)"
   ]
  },
  {
   "cell_type": "markdown",
   "metadata": {
    "slideshow": {
     "slide_type": "subslide"
    }
   },
   "source": [
    "## Data Pre-Processing"
   ]
  },
  {
   "cell_type": "code",
   "execution_count": 5,
   "metadata": {
    "nbgrader": {
     "grade": false,
     "grade_id": "cell-86a9e3212f200d21",
     "locked": false,
     "schema_version": 1,
     "solution": true
    },
    "slideshow": {
     "slide_type": "subslide"
    }
   },
   "outputs": [
    {
     "name": "stdout",
     "output_type": "stream",
     "text": [
      "(2492, 11) (2492,)\n"
     ]
    }
   ],
   "source": [
    "X = df.drop(\"EOG_quintile\", axis=1)\n",
    "y = df[\"EOG_quintile\"]\n",
    "print(X.shape, y.shape)"
   ]
  },
  {
   "cell_type": "code",
   "execution_count": 6,
   "metadata": {
    "nbgrader": {
     "grade": false,
     "grade_id": "cell-711a82d9b32c83ff",
     "locked": false,
     "schema_version": 1,
     "solution": true
    },
    "slideshow": {
     "slide_type": "fragment"
    }
   },
   "outputs": [],
   "source": [
    "from sklearn.model_selection import train_test_split\n",
    "from sklearn.preprocessing import LabelEncoder, MinMaxScaler\n",
    "from tensorflow.keras.utils import to_categorical"
   ]
  },
  {
   "cell_type": "code",
   "execution_count": 7,
   "metadata": {
    "nbgrader": {
     "grade": false,
     "grade_id": "cell-711a82d9b32c83ff",
     "locked": false,
     "schema_version": 1,
     "solution": true
    },
    "slideshow": {
     "slide_type": "fragment"
    }
   },
   "outputs": [],
   "source": [
    "X_train, X_test, y_train, y_test = train_test_split(\n",
    "    X, y, random_state=1, stratify=y)"
   ]
  },
  {
   "cell_type": "code",
   "execution_count": 8,
   "metadata": {
    "nbgrader": {
     "grade": false,
     "grade_id": "cell-711a82d9b32c83ff",
     "locked": false,
     "schema_version": 1,
     "solution": true
    },
    "slideshow": {
     "slide_type": "fragment"
    }
   },
   "outputs": [],
   "source": [
    "X_scaler = MinMaxScaler().fit(X_train)\n",
    "X_train_scaled = X_scaler.transform(X_train)\n",
    "X_test_scaled = X_scaler.transform(X_test)"
   ]
  },
  {
   "cell_type": "code",
   "execution_count": 9,
   "metadata": {
    "nbgrader": {
     "grade": false,
     "grade_id": "cell-711a82d9b32c83ff",
     "locked": false,
     "schema_version": 1,
     "solution": true
    },
    "slideshow": {
     "slide_type": "fragment"
    }
   },
   "outputs": [],
   "source": [
    "# Step 1: Label-encode data set\n",
    "label_encoder = LabelEncoder()\n",
    "label_encoder.fit(y_train)\n",
    "encoded_y_train = label_encoder.transform(y_train)\n",
    "encoded_y_test = label_encoder.transform(y_test)"
   ]
  },
  {
   "cell_type": "code",
   "execution_count": 10,
   "metadata": {
    "nbgrader": {
     "grade": false,
     "grade_id": "cell-711a82d9b32c83ff",
     "locked": false,
     "schema_version": 1,
     "solution": true
    },
    "slideshow": {
     "slide_type": "fragment"
    }
   },
   "outputs": [],
   "source": [
    "# Step 2: Convert encoded labels to one-hot-encoding\n",
    "y_train_categorical = to_categorical(encoded_y_train)\n",
    "y_test_categorical = to_categorical(encoded_y_test)"
   ]
  },
  {
   "cell_type": "markdown",
   "metadata": {},
   "source": [
    "# Create a Deep Learning Model"
   ]
  },
  {
   "cell_type": "code",
   "execution_count": 11,
   "metadata": {},
   "outputs": [],
   "source": [
    "from tensorflow.keras.models import Sequential\n",
    "from tensorflow.keras.layers import Dense"
   ]
  },
  {
   "cell_type": "code",
   "execution_count": 12,
   "metadata": {},
   "outputs": [
    {
     "name": "stdout",
     "output_type": "stream",
     "text": [
      "WARNING:tensorflow:From C:\\Users\\petef\\Anaconda3\\envs\\PythonData\\lib\\site-packages\\tensorflow\\python\\ops\\init_ops.py:1251: calling VarianceScaling.__init__ (from tensorflow.python.ops.init_ops) with dtype is deprecated and will be removed in a future version.\n",
      "Instructions for updating:\n",
      "Call initializer instance with the dtype argument instead of passing it to the constructor\n"
     ]
    }
   ],
   "source": [
    "# Create model and add layers\n",
    "model = Sequential()\n",
    "model.add(Dense(units=100, activation='relu', input_dim=11))\n",
    "model.add(Dense(units=100, activation='relu'))\n",
    "model.add(Dense(units=5, activation='softmax'))"
   ]
  },
  {
   "cell_type": "code",
   "execution_count": 13,
   "metadata": {},
   "outputs": [],
   "source": [
    "# Compile and fit the model\n",
    "model.compile(optimizer='adam',\n",
    "              loss='categorical_crossentropy',\n",
    "              metrics=['accuracy'])"
   ]
  },
  {
   "cell_type": "code",
   "execution_count": 14,
   "metadata": {},
   "outputs": [
    {
     "name": "stdout",
     "output_type": "stream",
     "text": [
      "Model: \"sequential\"\n",
      "_________________________________________________________________\n",
      "Layer (type)                 Output Shape              Param #   \n",
      "=================================================================\n",
      "dense (Dense)                (None, 100)               1200      \n",
      "_________________________________________________________________\n",
      "dense_1 (Dense)              (None, 100)               10100     \n",
      "_________________________________________________________________\n",
      "dense_2 (Dense)              (None, 5)                 505       \n",
      "=================================================================\n",
      "Total params: 11,805\n",
      "Trainable params: 11,805\n",
      "Non-trainable params: 0\n",
      "_________________________________________________________________\n"
     ]
    }
   ],
   "source": [
    "model.summary()"
   ]
  },
  {
   "cell_type": "code",
   "execution_count": 15,
   "metadata": {},
   "outputs": [
    {
     "name": "stdout",
     "output_type": "stream",
     "text": [
      "Epoch 1/60\n",
      "1869/1869 - 0s - loss: 1.3288 - acc: 0.4462\n",
      "Epoch 2/60\n",
      "1869/1869 - 0s - loss: 1.1466 - acc: 0.5254\n",
      "Epoch 3/60\n",
      "1869/1869 - 0s - loss: 1.0761 - acc: 0.5447\n",
      "Epoch 4/60\n",
      "1869/1869 - 0s - loss: 1.0454 - acc: 0.5457\n",
      "Epoch 5/60\n",
      "1869/1869 - 0s - loss: 1.0246 - acc: 0.5618\n",
      "Epoch 6/60\n",
      "1869/1869 - 0s - loss: 1.0226 - acc: 0.5629\n",
      "Epoch 7/60\n",
      "1869/1869 - 0s - loss: 1.0032 - acc: 0.5709\n",
      "Epoch 8/60\n",
      "1869/1869 - 0s - loss: 1.0019 - acc: 0.5811\n",
      "Epoch 9/60\n",
      "1869/1869 - 0s - loss: 1.0021 - acc: 0.5639\n",
      "Epoch 10/60\n",
      "1869/1869 - 0s - loss: 0.9928 - acc: 0.5752\n",
      "Epoch 11/60\n",
      "1869/1869 - 0s - loss: 0.9877 - acc: 0.5762\n",
      "Epoch 12/60\n",
      "1869/1869 - 0s - loss: 0.9858 - acc: 0.5778\n",
      "Epoch 13/60\n",
      "1869/1869 - 0s - loss: 0.9811 - acc: 0.5821\n",
      "Epoch 14/60\n",
      "1869/1869 - 0s - loss: 0.9805 - acc: 0.5773\n",
      "Epoch 15/60\n",
      "1869/1869 - 0s - loss: 0.9755 - acc: 0.5853\n",
      "Epoch 16/60\n",
      "1869/1869 - 0s - loss: 0.9735 - acc: 0.5848\n",
      "Epoch 17/60\n",
      "1869/1869 - 0s - loss: 0.9687 - acc: 0.5912\n",
      "Epoch 18/60\n",
      "1869/1869 - 0s - loss: 0.9656 - acc: 0.5875\n",
      "Epoch 19/60\n",
      "1869/1869 - 0s - loss: 0.9665 - acc: 0.5853\n",
      "Epoch 20/60\n",
      "1869/1869 - 0s - loss: 0.9628 - acc: 0.5960\n",
      "Epoch 21/60\n",
      "1869/1869 - 0s - loss: 0.9625 - acc: 0.5944\n",
      "Epoch 22/60\n",
      "1869/1869 - 0s - loss: 0.9565 - acc: 0.5934\n",
      "Epoch 23/60\n",
      "1869/1869 - 0s - loss: 0.9495 - acc: 0.5960\n",
      "Epoch 24/60\n",
      "1869/1869 - 0s - loss: 0.9580 - acc: 0.5912\n",
      "Epoch 25/60\n",
      "1869/1869 - 0s - loss: 0.9472 - acc: 0.6014\n",
      "Epoch 26/60\n",
      "1869/1869 - 0s - loss: 0.9466 - acc: 0.6003\n",
      "Epoch 27/60\n",
      "1869/1869 - 0s - loss: 0.9463 - acc: 0.5987\n",
      "Epoch 28/60\n",
      "1869/1869 - 0s - loss: 0.9482 - acc: 0.5966\n",
      "Epoch 29/60\n",
      "1869/1869 - 0s - loss: 0.9412 - acc: 0.6025\n",
      "Epoch 30/60\n",
      "1869/1869 - 0s - loss: 0.9476 - acc: 0.5982\n",
      "Epoch 31/60\n",
      "1869/1869 - 0s - loss: 0.9412 - acc: 0.6030\n",
      "Epoch 32/60\n",
      "1869/1869 - 0s - loss: 0.9435 - acc: 0.6073\n",
      "Epoch 33/60\n",
      "1869/1869 - 0s - loss: 0.9344 - acc: 0.6046\n",
      "Epoch 34/60\n",
      "1869/1869 - 0s - loss: 0.9315 - acc: 0.6116\n",
      "Epoch 35/60\n",
      "1869/1869 - 0s - loss: 0.9304 - acc: 0.6009\n",
      "Epoch 36/60\n",
      "1869/1869 - 0s - loss: 0.9308 - acc: 0.6132\n",
      "Epoch 37/60\n",
      "1869/1869 - 0s - loss: 0.9243 - acc: 0.6126\n",
      "Epoch 38/60\n",
      "1869/1869 - 0s - loss: 0.9373 - acc: 0.6035\n",
      "Epoch 39/60\n",
      "1869/1869 - 0s - loss: 0.9273 - acc: 0.6073\n",
      "Epoch 40/60\n",
      "1869/1869 - 0s - loss: 0.9297 - acc: 0.6057\n",
      "Epoch 41/60\n",
      "1869/1869 - 0s - loss: 0.9229 - acc: 0.6078\n",
      "Epoch 42/60\n",
      "1869/1869 - 0s - loss: 0.9223 - acc: 0.6110\n",
      "Epoch 43/60\n",
      "1869/1869 - 0s - loss: 0.9238 - acc: 0.6057\n",
      "Epoch 44/60\n",
      "1869/1869 - 0s - loss: 0.9186 - acc: 0.6078\n",
      "Epoch 45/60\n",
      "1869/1869 - 0s - loss: 0.9144 - acc: 0.6148\n",
      "Epoch 46/60\n",
      "1869/1869 - 0s - loss: 0.9193 - acc: 0.6094\n",
      "Epoch 47/60\n",
      "1869/1869 - 0s - loss: 0.9130 - acc: 0.6207\n",
      "Epoch 48/60\n",
      "1869/1869 - 0s - loss: 0.9137 - acc: 0.6158\n",
      "Epoch 49/60\n",
      "1869/1869 - 0s - loss: 0.9128 - acc: 0.6116\n",
      "Epoch 50/60\n",
      "1869/1869 - 0s - loss: 0.9145 - acc: 0.6196\n",
      "Epoch 51/60\n",
      "1869/1869 - 0s - loss: 0.9142 - acc: 0.6233\n",
      "Epoch 52/60\n",
      "1869/1869 - 0s - loss: 0.9073 - acc: 0.6233\n",
      "Epoch 53/60\n",
      "1869/1869 - 0s - loss: 0.9028 - acc: 0.6297\n",
      "Epoch 54/60\n",
      "1869/1869 - 0s - loss: 0.9062 - acc: 0.6180\n",
      "Epoch 55/60\n",
      "1869/1869 - 0s - loss: 0.9048 - acc: 0.6249\n",
      "Epoch 56/60\n",
      "1869/1869 - 0s - loss: 0.9099 - acc: 0.6174\n",
      "Epoch 57/60\n",
      "1869/1869 - 0s - loss: 0.8975 - acc: 0.6244\n",
      "Epoch 58/60\n",
      "1869/1869 - 0s - loss: 0.8938 - acc: 0.6255\n",
      "Epoch 59/60\n",
      "1869/1869 - 0s - loss: 0.8985 - acc: 0.6185\n",
      "Epoch 60/60\n",
      "1869/1869 - 0s - loss: 0.8960 - acc: 0.6255\n"
     ]
    },
    {
     "data": {
      "text/plain": [
       "<tensorflow.python.keras.callbacks.History at 0x235c0d49748>"
      ]
     },
     "execution_count": 15,
     "metadata": {},
     "output_type": "execute_result"
    }
   ],
   "source": [
    "model.fit(\n",
    "    X_train_scaled,\n",
    "    y_train_categorical,\n",
    "    epochs=60,\n",
    "    shuffle=True,\n",
    "    verbose=2\n",
    ")"
   ]
  },
  {
   "cell_type": "markdown",
   "metadata": {},
   "source": [
    "## Quantify our Trained Model"
   ]
  },
  {
   "cell_type": "code",
   "execution_count": 16,
   "metadata": {},
   "outputs": [
    {
     "name": "stdout",
     "output_type": "stream",
     "text": [
      "623/623 - 0s - loss: 0.9160 - acc: 0.6164\n",
      "Normal Neural Network - Loss: 0.9160256314048032, Accuracy: 0.6163724064826965\n"
     ]
    }
   ],
   "source": [
    "model_loss, model_accuracy = model.evaluate(\n",
    "    X_test_scaled, y_test_categorical, verbose=2)\n",
    "print(\n",
    "    f\"Normal Neural Network - Loss: {model_loss}, Accuracy: {model_accuracy}\")"
   ]
  },
  {
   "cell_type": "markdown",
   "metadata": {
    "slideshow": {
     "slide_type": "subslide"
    }
   },
   "source": [
    "## Make Predictions"
   ]
  },
  {
   "cell_type": "code",
   "execution_count": 17,
   "metadata": {
    "nbgrader": {
     "grade": false,
     "grade_id": "cell-f97eb3e97245187b",
     "locked": false,
     "schema_version": 1,
     "solution": true
    },
    "slideshow": {
     "slide_type": "fragment"
    }
   },
   "outputs": [],
   "source": [
    "encoded_predictions = model.predict_classes(X_test_scaled[:20])\n",
    "prediction_labels = label_encoder.inverse_transform(encoded_predictions)"
   ]
  },
  {
   "cell_type": "code",
   "execution_count": 18,
   "metadata": {},
   "outputs": [
    {
     "name": "stdout",
     "output_type": "stream",
     "text": [
      "Predicted classes: [3 3 3 3 2 2 2 3 4 2 2 2 3 1 2 3 2 3 1 3]\n",
      "Actual Labels: [3, 3, 3, 3, 2, 1, 2, 3, 4, 2, 3, 2, 3, 1, 3, 3, 2, 3, 1, 3]\n"
     ]
    }
   ],
   "source": [
    "print(f\"Predicted classes: {prediction_labels}\")\n",
    "print(f\"Actual Labels: {list(y_test[:20])}\")"
   ]
  },
  {
   "cell_type": "code",
   "execution_count": null,
   "metadata": {},
   "outputs": [],
   "source": []
  }
 ],
 "metadata": {
  "kernelspec": {
   "display_name": "Python [conda env:PythonData] *",
   "language": "python",
   "name": "conda-env-PythonData-py"
  },
  "language_info": {
   "codemirror_mode": {
    "name": "ipython",
    "version": 3
   },
   "file_extension": ".py",
   "mimetype": "text/x-python",
   "name": "python",
   "nbconvert_exporter": "python",
   "pygments_lexer": "ipython3",
   "version": "3.6.9"
  },
  "varInspector": {
   "cols": {
    "lenName": 16,
    "lenType": 16,
    "lenVar": 40
   },
   "kernels_config": {
    "python": {
     "delete_cmd_postfix": "",
     "delete_cmd_prefix": "del ",
     "library": "var_list.py",
     "varRefreshCmd": "print(var_dic_list())"
    },
    "r": {
     "delete_cmd_postfix": ") ",
     "delete_cmd_prefix": "rm(",
     "library": "var_list.r",
     "varRefreshCmd": "cat(var_dic_list()) "
    }
   },
   "types_to_exclude": [
    "module",
    "function",
    "builtin_function_or_method",
    "instance",
    "_Feature"
   ],
   "window_display": false
  }
 },
 "nbformat": 4,
 "nbformat_minor": 2
}
