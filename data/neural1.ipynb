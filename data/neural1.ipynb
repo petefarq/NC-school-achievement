{
 "cells": [
  {
   "cell_type": "code",
   "execution_count": 1,
   "metadata": {},
   "outputs": [],
   "source": [
    "# Set the seed value for the notebook so the results are reproducible\n",
    "from numpy.random import seed\n",
    "seed(1)"
   ]
  },
  {
   "cell_type": "code",
   "execution_count": 2,
   "metadata": {
    "slideshow": {
     "slide_type": "subslide"
    }
   },
   "outputs": [],
   "source": [
    "# Dependencies\n",
    "import numpy as np\n",
    "import pandas as pd"
   ]
  },
  {
   "cell_type": "code",
   "execution_count": 3,
   "metadata": {},
   "outputs": [
    {
     "data": {
      "text/plain": [
       "'2.2.4-tf'"
      ]
     },
     "execution_count": 3,
     "metadata": {},
     "output_type": "execute_result"
    }
   ],
   "source": [
    "import tensorflow\n",
    "tensorflow.keras.__version__"
   ]
  },
  {
   "cell_type": "code",
   "execution_count": 4,
   "metadata": {
    "slideshow": {
     "slide_type": "fragment"
    }
   },
   "outputs": [
    {
     "data": {
      "text/html": [
       "<div>\n",
       "<style scoped>\n",
       "    .dataframe tbody tr th:only-of-type {\n",
       "        vertical-align: middle;\n",
       "    }\n",
       "\n",
       "    .dataframe tbody tr th {\n",
       "        vertical-align: top;\n",
       "    }\n",
       "\n",
       "    .dataframe thead th {\n",
       "        text-align: right;\n",
       "    }\n",
       "</style>\n",
       "<table border=\"1\" class=\"dataframe\">\n",
       "  <thead>\n",
       "    <tr style=\"text-align: right;\">\n",
       "      <th></th>\n",
       "      <th>id</th>\n",
       "      <th>EOG_quintile</th>\n",
       "      <th>percent_EDS</th>\n",
       "      <th>child_abuse_rate</th>\n",
       "      <th>children_conc_pov</th>\n",
       "      <th>parent</th>\n",
       "      <th>juv_delinquent</th>\n",
       "      <th>No_HSdegree</th>\n",
       "      <th>parent_unemployed</th>\n",
       "      <th>county_poc</th>\n",
       "      <th>county_tier</th>\n",
       "      <th>poverty_county</th>\n",
       "      <th>median_inc_county</th>\n",
       "    </tr>\n",
       "  </thead>\n",
       "  <tbody>\n",
       "    <tr>\n",
       "      <th>0</th>\n",
       "      <td>1</td>\n",
       "      <td>1</td>\n",
       "      <td>4.0</td>\n",
       "      <td>1.8</td>\n",
       "      <td>3.1</td>\n",
       "      <td>1.2</td>\n",
       "      <td>6.7</td>\n",
       "      <td>5.9</td>\n",
       "      <td>4.0</td>\n",
       "      <td>39.1</td>\n",
       "      <td>3</td>\n",
       "      <td>9.7</td>\n",
       "      <td>80169</td>\n",
       "    </tr>\n",
       "    <tr>\n",
       "      <th>1</th>\n",
       "      <td>2</td>\n",
       "      <td>1</td>\n",
       "      <td>4.0</td>\n",
       "      <td>1.8</td>\n",
       "      <td>3.1</td>\n",
       "      <td>1.2</td>\n",
       "      <td>6.7</td>\n",
       "      <td>5.9</td>\n",
       "      <td>4.0</td>\n",
       "      <td>39.1</td>\n",
       "      <td>3</td>\n",
       "      <td>9.7</td>\n",
       "      <td>80169</td>\n",
       "    </tr>\n",
       "    <tr>\n",
       "      <th>2</th>\n",
       "      <td>3</td>\n",
       "      <td>1</td>\n",
       "      <td>4.0</td>\n",
       "      <td>5.8</td>\n",
       "      <td>7.1</td>\n",
       "      <td>0.8</td>\n",
       "      <td>24.8</td>\n",
       "      <td>8.8</td>\n",
       "      <td>6.0</td>\n",
       "      <td>23.3</td>\n",
       "      <td>3</td>\n",
       "      <td>13.0</td>\n",
       "      <td>60044</td>\n",
       "    </tr>\n",
       "    <tr>\n",
       "      <th>3</th>\n",
       "      <td>4</td>\n",
       "      <td>1</td>\n",
       "      <td>4.0</td>\n",
       "      <td>2.2</td>\n",
       "      <td>12.9</td>\n",
       "      <td>0.8</td>\n",
       "      <td>17.5</td>\n",
       "      <td>8.6</td>\n",
       "      <td>4.9</td>\n",
       "      <td>52.7</td>\n",
       "      <td>3</td>\n",
       "      <td>16.4</td>\n",
       "      <td>64509</td>\n",
       "    </tr>\n",
       "    <tr>\n",
       "      <th>4</th>\n",
       "      <td>5</td>\n",
       "      <td>1</td>\n",
       "      <td>66.2</td>\n",
       "      <td>0.5</td>\n",
       "      <td>26.6</td>\n",
       "      <td>2.4</td>\n",
       "      <td>31.8</td>\n",
       "      <td>17.9</td>\n",
       "      <td>14.7</td>\n",
       "      <td>42.4</td>\n",
       "      <td>1</td>\n",
       "      <td>29.1</td>\n",
       "      <td>38514</td>\n",
       "    </tr>\n",
       "    <tr>\n",
       "      <th>5</th>\n",
       "      <td>6</td>\n",
       "      <td>1</td>\n",
       "      <td>62.0</td>\n",
       "      <td>9.9</td>\n",
       "      <td>39.3</td>\n",
       "      <td>1.4</td>\n",
       "      <td>19.1</td>\n",
       "      <td>19.8</td>\n",
       "      <td>19.3</td>\n",
       "      <td>74.2</td>\n",
       "      <td>1</td>\n",
       "      <td>34.7</td>\n",
       "      <td>35407</td>\n",
       "    </tr>\n",
       "    <tr>\n",
       "      <th>6</th>\n",
       "      <td>7</td>\n",
       "      <td>1</td>\n",
       "      <td>61.4</td>\n",
       "      <td>3.0</td>\n",
       "      <td>8.8</td>\n",
       "      <td>1.3</td>\n",
       "      <td>20.7</td>\n",
       "      <td>6.6</td>\n",
       "      <td>10.5</td>\n",
       "      <td>56.0</td>\n",
       "      <td>1</td>\n",
       "      <td>22.2</td>\n",
       "      <td>46779</td>\n",
       "    </tr>\n",
       "    <tr>\n",
       "      <th>7</th>\n",
       "      <td>8</td>\n",
       "      <td>1</td>\n",
       "      <td>53.6</td>\n",
       "      <td>2.0</td>\n",
       "      <td>20.5</td>\n",
       "      <td>0.9</td>\n",
       "      <td>9.9</td>\n",
       "      <td>11.5</td>\n",
       "      <td>8.6</td>\n",
       "      <td>56.6</td>\n",
       "      <td>3</td>\n",
       "      <td>18.9</td>\n",
       "      <td>59329</td>\n",
       "    </tr>\n",
       "    <tr>\n",
       "      <th>8</th>\n",
       "      <td>9</td>\n",
       "      <td>1</td>\n",
       "      <td>53.1</td>\n",
       "      <td>5.0</td>\n",
       "      <td>0.0</td>\n",
       "      <td>1.8</td>\n",
       "      <td>29.2</td>\n",
       "      <td>11.8</td>\n",
       "      <td>12.0</td>\n",
       "      <td>33.8</td>\n",
       "      <td>1</td>\n",
       "      <td>26.2</td>\n",
       "      <td>46411</td>\n",
       "    </tr>\n",
       "    <tr>\n",
       "      <th>9</th>\n",
       "      <td>10</td>\n",
       "      <td>1</td>\n",
       "      <td>51.0</td>\n",
       "      <td>3.0</td>\n",
       "      <td>8.8</td>\n",
       "      <td>1.3</td>\n",
       "      <td>20.7</td>\n",
       "      <td>6.6</td>\n",
       "      <td>10.5</td>\n",
       "      <td>56.0</td>\n",
       "      <td>1</td>\n",
       "      <td>22.2</td>\n",
       "      <td>46779</td>\n",
       "    </tr>\n",
       "  </tbody>\n",
       "</table>\n",
       "</div>"
      ],
      "text/plain": [
       "   id  EOG_quintile  percent_EDS  child_abuse_rate  children_conc_pov  parent  \\\n",
       "0   1             1          4.0               1.8                3.1     1.2   \n",
       "1   2             1          4.0               1.8                3.1     1.2   \n",
       "2   3             1          4.0               5.8                7.1     0.8   \n",
       "3   4             1          4.0               2.2               12.9     0.8   \n",
       "4   5             1         66.2               0.5               26.6     2.4   \n",
       "5   6             1         62.0               9.9               39.3     1.4   \n",
       "6   7             1         61.4               3.0                8.8     1.3   \n",
       "7   8             1         53.6               2.0               20.5     0.9   \n",
       "8   9             1         53.1               5.0                0.0     1.8   \n",
       "9  10             1         51.0               3.0                8.8     1.3   \n",
       "\n",
       "   juv_delinquent  No_HSdegree  parent_unemployed  county_poc  county_tier  \\\n",
       "0             6.7          5.9                4.0        39.1            3   \n",
       "1             6.7          5.9                4.0        39.1            3   \n",
       "2            24.8          8.8                6.0        23.3            3   \n",
       "3            17.5          8.6                4.9        52.7            3   \n",
       "4            31.8         17.9               14.7        42.4            1   \n",
       "5            19.1         19.8               19.3        74.2            1   \n",
       "6            20.7          6.6               10.5        56.0            1   \n",
       "7             9.9         11.5                8.6        56.6            3   \n",
       "8            29.2         11.8               12.0        33.8            1   \n",
       "9            20.7          6.6               10.5        56.0            1   \n",
       "\n",
       "   poverty_county  median_inc_county  \n",
       "0             9.7              80169  \n",
       "1             9.7              80169  \n",
       "2            13.0              60044  \n",
       "3            16.4              64509  \n",
       "4            29.1              38514  \n",
       "5            34.7              35407  \n",
       "6            22.2              46779  \n",
       "7            18.9              59329  \n",
       "8            26.2              46411  \n",
       "9            22.2              46779  "
      ]
     },
     "execution_count": 4,
     "metadata": {},
     "output_type": "execute_result"
    }
   ],
   "source": [
    "df = pd.read_csv(\"main_data_for_ML.csv\")\n",
    "df.head(10)"
   ]
  },
  {
   "cell_type": "markdown",
   "metadata": {
    "slideshow": {
     "slide_type": "subslide"
    }
   },
   "source": [
    "## Data Pre-Processing"
   ]
  },
  {
   "cell_type": "code",
   "execution_count": 5,
   "metadata": {},
   "outputs": [
    {
     "data": {
      "text/html": [
       "<div>\n",
       "<style scoped>\n",
       "    .dataframe tbody tr th:only-of-type {\n",
       "        vertical-align: middle;\n",
       "    }\n",
       "\n",
       "    .dataframe tbody tr th {\n",
       "        vertical-align: top;\n",
       "    }\n",
       "\n",
       "    .dataframe thead th {\n",
       "        text-align: right;\n",
       "    }\n",
       "</style>\n",
       "<table border=\"1\" class=\"dataframe\">\n",
       "  <thead>\n",
       "    <tr style=\"text-align: right;\">\n",
       "      <th></th>\n",
       "      <th>county_tier_1</th>\n",
       "      <th>county_tier_2</th>\n",
       "      <th>county_tier_3</th>\n",
       "    </tr>\n",
       "  </thead>\n",
       "  <tbody>\n",
       "    <tr>\n",
       "      <th>0</th>\n",
       "      <td>0</td>\n",
       "      <td>0</td>\n",
       "      <td>1</td>\n",
       "    </tr>\n",
       "    <tr>\n",
       "      <th>1</th>\n",
       "      <td>0</td>\n",
       "      <td>0</td>\n",
       "      <td>1</td>\n",
       "    </tr>\n",
       "    <tr>\n",
       "      <th>2</th>\n",
       "      <td>0</td>\n",
       "      <td>0</td>\n",
       "      <td>1</td>\n",
       "    </tr>\n",
       "    <tr>\n",
       "      <th>3</th>\n",
       "      <td>0</td>\n",
       "      <td>0</td>\n",
       "      <td>1</td>\n",
       "    </tr>\n",
       "    <tr>\n",
       "      <th>4</th>\n",
       "      <td>1</td>\n",
       "      <td>0</td>\n",
       "      <td>0</td>\n",
       "    </tr>\n",
       "  </tbody>\n",
       "</table>\n",
       "</div>"
      ],
      "text/plain": [
       "   county_tier_1  county_tier_2  county_tier_3\n",
       "0              0              0              1\n",
       "1              0              0              1\n",
       "2              0              0              1\n",
       "3              0              0              1\n",
       "4              1              0              0"
      ]
     },
     "execution_count": 5,
     "metadata": {},
     "output_type": "execute_result"
    }
   ],
   "source": [
    "dummy = pd.get_dummies(df[\"county_tier\"],prefix=\"county_tier\")\n",
    "dummy.head()"
   ]
  },
  {
   "cell_type": "code",
   "execution_count": 43,
   "metadata": {},
   "outputs": [
    {
     "data": {
      "text/html": [
       "<div>\n",
       "<style scoped>\n",
       "    .dataframe tbody tr th:only-of-type {\n",
       "        vertical-align: middle;\n",
       "    }\n",
       "\n",
       "    .dataframe tbody tr th {\n",
       "        vertical-align: top;\n",
       "    }\n",
       "\n",
       "    .dataframe thead th {\n",
       "        text-align: right;\n",
       "    }\n",
       "</style>\n",
       "<table border=\"1\" class=\"dataframe\">\n",
       "  <thead>\n",
       "    <tr style=\"text-align: right;\">\n",
       "      <th></th>\n",
       "      <th>id</th>\n",
       "      <th>EOG_quintile</th>\n",
       "      <th>percent_EDS</th>\n",
       "      <th>child_abuse_rate</th>\n",
       "      <th>children_conc_pov</th>\n",
       "      <th>parent</th>\n",
       "      <th>juv_delinquent</th>\n",
       "      <th>No_HSdegree</th>\n",
       "      <th>parent_unemployed</th>\n",
       "      <th>county_poc</th>\n",
       "      <th>poverty_county</th>\n",
       "      <th>median_inc_county</th>\n",
       "      <th>county_tier_1</th>\n",
       "      <th>county_tier_2</th>\n",
       "      <th>county_tier_3</th>\n",
       "    </tr>\n",
       "  </thead>\n",
       "  <tbody>\n",
       "    <tr>\n",
       "      <th>count</th>\n",
       "      <td>2492.000000</td>\n",
       "      <td>2492.000000</td>\n",
       "      <td>2492.000000</td>\n",
       "      <td>2492.000000</td>\n",
       "      <td>2492.000000</td>\n",
       "      <td>2492.000000</td>\n",
       "      <td>2492.000000</td>\n",
       "      <td>2492.000000</td>\n",
       "      <td>2492.000000</td>\n",
       "      <td>2492.000000</td>\n",
       "      <td>2492.000000</td>\n",
       "      <td>2492.000000</td>\n",
       "      <td>2492.000000</td>\n",
       "      <td>2492.000000</td>\n",
       "      <td>2492.000000</td>\n",
       "    </tr>\n",
       "    <tr>\n",
       "      <th>mean</th>\n",
       "      <td>1246.500000</td>\n",
       "      <td>2.606742</td>\n",
       "      <td>50.088202</td>\n",
       "      <td>3.530778</td>\n",
       "      <td>11.475201</td>\n",
       "      <td>1.302929</td>\n",
       "      <td>16.822191</td>\n",
       "      <td>11.319141</td>\n",
       "      <td>8.494141</td>\n",
       "      <td>35.621509</td>\n",
       "      <td>20.174358</td>\n",
       "      <td>54295.719502</td>\n",
       "      <td>0.275281</td>\n",
       "      <td>0.340289</td>\n",
       "      <td>0.384430</td>\n",
       "    </tr>\n",
       "    <tr>\n",
       "      <th>std</th>\n",
       "      <td>719.522759</td>\n",
       "      <td>0.872573</td>\n",
       "      <td>20.083281</td>\n",
       "      <td>2.798452</td>\n",
       "      <td>10.689638</td>\n",
       "      <td>0.570944</td>\n",
       "      <td>7.229138</td>\n",
       "      <td>4.133649</td>\n",
       "      <td>3.827049</td>\n",
       "      <td>16.090638</td>\n",
       "      <td>6.953433</td>\n",
       "      <td>12150.898796</td>\n",
       "      <td>0.446745</td>\n",
       "      <td>0.473901</td>\n",
       "      <td>0.486558</td>\n",
       "    </tr>\n",
       "    <tr>\n",
       "      <th>min</th>\n",
       "      <td>1.000000</td>\n",
       "      <td>1.000000</td>\n",
       "      <td>4.000000</td>\n",
       "      <td>0.000000</td>\n",
       "      <td>0.000000</td>\n",
       "      <td>0.000000</td>\n",
       "      <td>4.800000</td>\n",
       "      <td>5.900000</td>\n",
       "      <td>2.800000</td>\n",
       "      <td>5.100000</td>\n",
       "      <td>8.300000</td>\n",
       "      <td>35407.000000</td>\n",
       "      <td>0.000000</td>\n",
       "      <td>0.000000</td>\n",
       "      <td>0.000000</td>\n",
       "    </tr>\n",
       "    <tr>\n",
       "      <th>25%</th>\n",
       "      <td>623.750000</td>\n",
       "      <td>2.000000</td>\n",
       "      <td>37.100000</td>\n",
       "      <td>1.800000</td>\n",
       "      <td>3.100000</td>\n",
       "      <td>1.000000</td>\n",
       "      <td>11.500000</td>\n",
       "      <td>8.200000</td>\n",
       "      <td>5.600000</td>\n",
       "      <td>21.800000</td>\n",
       "      <td>16.400000</td>\n",
       "      <td>46342.000000</td>\n",
       "      <td>0.000000</td>\n",
       "      <td>0.000000</td>\n",
       "      <td>0.000000</td>\n",
       "    </tr>\n",
       "    <tr>\n",
       "      <th>50%</th>\n",
       "      <td>1246.500000</td>\n",
       "      <td>3.000000</td>\n",
       "      <td>51.900000</td>\n",
       "      <td>2.700000</td>\n",
       "      <td>8.800000</td>\n",
       "      <td>1.200000</td>\n",
       "      <td>17.300000</td>\n",
       "      <td>10.500000</td>\n",
       "      <td>8.000000</td>\n",
       "      <td>36.300000</td>\n",
       "      <td>20.000000</td>\n",
       "      <td>51491.000000</td>\n",
       "      <td>0.000000</td>\n",
       "      <td>0.000000</td>\n",
       "      <td>0.000000</td>\n",
       "    </tr>\n",
       "    <tr>\n",
       "      <th>75%</th>\n",
       "      <td>1869.250000</td>\n",
       "      <td>3.000000</td>\n",
       "      <td>64.700000</td>\n",
       "      <td>4.800000</td>\n",
       "      <td>18.600000</td>\n",
       "      <td>1.500000</td>\n",
       "      <td>21.200000</td>\n",
       "      <td>14.000000</td>\n",
       "      <td>10.500000</td>\n",
       "      <td>49.300000</td>\n",
       "      <td>23.200000</td>\n",
       "      <td>60296.000000</td>\n",
       "      <td>1.000000</td>\n",
       "      <td>1.000000</td>\n",
       "      <td>1.000000</td>\n",
       "    </tr>\n",
       "    <tr>\n",
       "      <th>max</th>\n",
       "      <td>2492.000000</td>\n",
       "      <td>5.000000</td>\n",
       "      <td>96.000000</td>\n",
       "      <td>13.800000</td>\n",
       "      <td>51.200000</td>\n",
       "      <td>5.900000</td>\n",
       "      <td>57.600000</td>\n",
       "      <td>23.400000</td>\n",
       "      <td>21.700000</td>\n",
       "      <td>74.200000</td>\n",
       "      <td>41.800000</td>\n",
       "      <td>80428.000000</td>\n",
       "      <td>1.000000</td>\n",
       "      <td>1.000000</td>\n",
       "      <td>1.000000</td>\n",
       "    </tr>\n",
       "  </tbody>\n",
       "</table>\n",
       "</div>"
      ],
      "text/plain": [
       "                id  EOG_quintile  percent_EDS  child_abuse_rate  \\\n",
       "count  2492.000000   2492.000000  2492.000000       2492.000000   \n",
       "mean   1246.500000      2.606742    50.088202          3.530778   \n",
       "std     719.522759      0.872573    20.083281          2.798452   \n",
       "min       1.000000      1.000000     4.000000          0.000000   \n",
       "25%     623.750000      2.000000    37.100000          1.800000   \n",
       "50%    1246.500000      3.000000    51.900000          2.700000   \n",
       "75%    1869.250000      3.000000    64.700000          4.800000   \n",
       "max    2492.000000      5.000000    96.000000         13.800000   \n",
       "\n",
       "       children_conc_pov       parent  juv_delinquent  No_HSdegree  \\\n",
       "count        2492.000000  2492.000000     2492.000000  2492.000000   \n",
       "mean           11.475201     1.302929       16.822191    11.319141   \n",
       "std            10.689638     0.570944        7.229138     4.133649   \n",
       "min             0.000000     0.000000        4.800000     5.900000   \n",
       "25%             3.100000     1.000000       11.500000     8.200000   \n",
       "50%             8.800000     1.200000       17.300000    10.500000   \n",
       "75%            18.600000     1.500000       21.200000    14.000000   \n",
       "max            51.200000     5.900000       57.600000    23.400000   \n",
       "\n",
       "       parent_unemployed   county_poc  poverty_county  median_inc_county  \\\n",
       "count        2492.000000  2492.000000     2492.000000        2492.000000   \n",
       "mean            8.494141    35.621509       20.174358       54295.719502   \n",
       "std             3.827049    16.090638        6.953433       12150.898796   \n",
       "min             2.800000     5.100000        8.300000       35407.000000   \n",
       "25%             5.600000    21.800000       16.400000       46342.000000   \n",
       "50%             8.000000    36.300000       20.000000       51491.000000   \n",
       "75%            10.500000    49.300000       23.200000       60296.000000   \n",
       "max            21.700000    74.200000       41.800000       80428.000000   \n",
       "\n",
       "       county_tier_1  county_tier_2  county_tier_3  \n",
       "count    2492.000000    2492.000000    2492.000000  \n",
       "mean        0.275281       0.340289       0.384430  \n",
       "std         0.446745       0.473901       0.486558  \n",
       "min         0.000000       0.000000       0.000000  \n",
       "25%         0.000000       0.000000       0.000000  \n",
       "50%         0.000000       0.000000       0.000000  \n",
       "75%         1.000000       1.000000       1.000000  \n",
       "max         1.000000       1.000000       1.000000  "
      ]
     },
     "execution_count": 43,
     "metadata": {},
     "output_type": "execute_result"
    }
   ],
   "source": [
    "df2=pd.concat([df,dummy],axis=1)\n",
    "df2.drop(columns=[\"county_tier\"],inplace=True)\n",
    "df2.head()\n",
    "df2.describe()"
   ]
  },
  {
   "cell_type": "code",
   "execution_count": 7,
   "metadata": {
    "nbgrader": {
     "grade": false,
     "grade_id": "cell-86a9e3212f200d21",
     "locked": false,
     "schema_version": 1,
     "solution": true
    },
    "slideshow": {
     "slide_type": "subslide"
    }
   },
   "outputs": [
    {
     "name": "stdout",
     "output_type": "stream",
     "text": [
      "(2492, 15)\n"
     ]
    }
   ],
   "source": [
    "X = df2.copy()\n",
    "y = df2[\"EOG_quintile\"].copy()\n",
    "print(X.shape)"
   ]
  },
  {
   "cell_type": "code",
   "execution_count": 8,
   "metadata": {
    "nbgrader": {
     "grade": false,
     "grade_id": "cell-711a82d9b32c83ff",
     "locked": false,
     "schema_version": 1,
     "solution": true
    },
    "slideshow": {
     "slide_type": "fragment"
    }
   },
   "outputs": [],
   "source": [
    "from sklearn.model_selection import train_test_split\n",
    "from sklearn.preprocessing import LabelEncoder, MinMaxScaler\n",
    "from tensorflow.keras.utils import to_categorical"
   ]
  },
  {
   "cell_type": "code",
   "execution_count": 33,
   "metadata": {
    "nbgrader": {
     "grade": false,
     "grade_id": "cell-711a82d9b32c83ff",
     "locked": false,
     "schema_version": 1,
     "solution": true
    },
    "slideshow": {
     "slide_type": "fragment"
    }
   },
   "outputs": [
    {
     "data": {
      "text/plain": [
       "(1246, 13)"
      ]
     },
     "execution_count": 33,
     "metadata": {},
     "output_type": "execute_result"
    }
   ],
   "source": [
    "X_train_with_id, X_test_with_id, y_train, y_test = train_test_split(\n",
    "    X, y, random_state=1, stratify=y,train_size=0.70)\n",
    "X_train = X_train_with_id.drop([\"id\",\"EOG_quintile\"],axis=1)\n",
    "X_test = X_test_with_id.drop([\"id\",\"EOG_quintile\"],axis=1)\n",
    "X_train.shape"
   ]
  },
  {
   "cell_type": "code",
   "execution_count": 34,
   "metadata": {
    "nbgrader": {
     "grade": false,
     "grade_id": "cell-711a82d9b32c83ff",
     "locked": false,
     "schema_version": 1,
     "solution": true
    },
    "scrolled": true,
    "slideshow": {
     "slide_type": "fragment"
    }
   },
   "outputs": [],
   "source": [
    "X_scaler = MinMaxScaler().fit(X_train)\n",
    "X_train_scaled = X_scaler.transform(X_train)\n",
    "X_test_scaled = X_scaler.transform(X_test)"
   ]
  },
  {
   "cell_type": "code",
   "execution_count": null,
   "metadata": {},
   "outputs": [],
   "source": []
  },
  {
   "cell_type": "code",
   "execution_count": 35,
   "metadata": {
    "nbgrader": {
     "grade": false,
     "grade_id": "cell-711a82d9b32c83ff",
     "locked": false,
     "schema_version": 1,
     "solution": true
    },
    "slideshow": {
     "slide_type": "fragment"
    }
   },
   "outputs": [],
   "source": [
    "# Step 1: Label-encode data set\n",
    "label_encoder = LabelEncoder()\n",
    "label_encoder.fit(y_train)\n",
    "encoded_y_train = label_encoder.transform(y_train)\n",
    "encoded_y_test = label_encoder.transform(y_test)"
   ]
  },
  {
   "cell_type": "code",
   "execution_count": 36,
   "metadata": {
    "nbgrader": {
     "grade": false,
     "grade_id": "cell-711a82d9b32c83ff",
     "locked": false,
     "schema_version": 1,
     "solution": true
    },
    "slideshow": {
     "slide_type": "fragment"
    }
   },
   "outputs": [],
   "source": [
    "# Step 2: Convert encoded labels to one-hot-encoding\n",
    "y_train_categorical = to_categorical(encoded_y_train)\n",
    "y_test_categorical = to_categorical(encoded_y_test)"
   ]
  },
  {
   "cell_type": "markdown",
   "metadata": {},
   "source": [
    "# Create a Deep Learning Model"
   ]
  },
  {
   "cell_type": "code",
   "execution_count": 37,
   "metadata": {},
   "outputs": [],
   "source": [
    "from tensorflow.keras.models import Sequential\n",
    "from tensorflow.keras.layers import Dense"
   ]
  },
  {
   "cell_type": "code",
   "execution_count": 38,
   "metadata": {},
   "outputs": [],
   "source": [
    "# Create model and add layers\n",
    "model = Sequential()\n",
    "model.add(Dense(units=100, activation='relu', input_dim=13))\n",
    "model.add(Dense(units=100, activation='relu'))\n",
    "model.add(Dense(units=5, activation='softmax'))"
   ]
  },
  {
   "cell_type": "code",
   "execution_count": 39,
   "metadata": {},
   "outputs": [],
   "source": [
    "# Compile and fit the model\n",
    "model.compile(optimizer='adam',\n",
    "              loss='categorical_crossentropy',\n",
    "              metrics=['accuracy'])"
   ]
  },
  {
   "cell_type": "code",
   "execution_count": 40,
   "metadata": {},
   "outputs": [
    {
     "name": "stdout",
     "output_type": "stream",
     "text": [
      "Model: \"sequential_3\"\n",
      "_________________________________________________________________\n",
      "Layer (type)                 Output Shape              Param #   \n",
      "=================================================================\n",
      "dense_9 (Dense)              (None, 100)               1400      \n",
      "_________________________________________________________________\n",
      "dense_10 (Dense)             (None, 100)               10100     \n",
      "_________________________________________________________________\n",
      "dense_11 (Dense)             (None, 5)                 505       \n",
      "=================================================================\n",
      "Total params: 12,005\n",
      "Trainable params: 12,005\n",
      "Non-trainable params: 0\n",
      "_________________________________________________________________\n"
     ]
    }
   ],
   "source": [
    "model.summary()"
   ]
  },
  {
   "cell_type": "code",
   "execution_count": 41,
   "metadata": {},
   "outputs": [
    {
     "name": "stdout",
     "output_type": "stream",
     "text": [
      "Train on 1246 samples\n",
      "Epoch 1/60\n",
      "1246/1246 - 0s - loss: 1.3794 - accuracy: 0.4053\n",
      "Epoch 2/60\n",
      "1246/1246 - 0s - loss: 1.1956 - accuracy: 0.4912\n",
      "Epoch 3/60\n",
      "1246/1246 - 0s - loss: 1.1181 - accuracy: 0.5313\n",
      "Epoch 4/60\n",
      "1246/1246 - 0s - loss: 1.0637 - accuracy: 0.5337\n",
      "Epoch 5/60\n",
      "1246/1246 - 0s - loss: 1.0315 - accuracy: 0.5433\n",
      "Epoch 6/60\n",
      "1246/1246 - 0s - loss: 1.0031 - accuracy: 0.5626\n",
      "Epoch 7/60\n",
      "1246/1246 - 0s - loss: 0.9919 - accuracy: 0.5714\n",
      "Epoch 8/60\n",
      "1246/1246 - 0s - loss: 0.9887 - accuracy: 0.5730\n",
      "Epoch 9/60\n",
      "1246/1246 - 0s - loss: 0.9757 - accuracy: 0.5859\n",
      "Epoch 10/60\n",
      "1246/1246 - 0s - loss: 0.9755 - accuracy: 0.5803\n",
      "Epoch 11/60\n",
      "1246/1246 - 0s - loss: 0.9757 - accuracy: 0.5746\n",
      "Epoch 12/60\n",
      "1246/1246 - 0s - loss: 0.9734 - accuracy: 0.5867\n",
      "Epoch 13/60\n",
      "1246/1246 - 0s - loss: 0.9709 - accuracy: 0.5851\n",
      "Epoch 14/60\n",
      "1246/1246 - 0s - loss: 0.9631 - accuracy: 0.5827\n",
      "Epoch 15/60\n",
      "1246/1246 - 0s - loss: 0.9623 - accuracy: 0.5923\n",
      "Epoch 16/60\n",
      "1246/1246 - 0s - loss: 0.9628 - accuracy: 0.5867\n",
      "Epoch 17/60\n",
      "1246/1246 - 0s - loss: 0.9498 - accuracy: 0.5875\n",
      "Epoch 18/60\n",
      "1246/1246 - 0s - loss: 0.9504 - accuracy: 0.5955\n",
      "Epoch 19/60\n",
      "1246/1246 - 0s - loss: 0.9524 - accuracy: 0.5955\n",
      "Epoch 20/60\n",
      "1246/1246 - 0s - loss: 0.9510 - accuracy: 0.5907\n",
      "Epoch 21/60\n",
      "1246/1246 - 0s - loss: 0.9450 - accuracy: 0.5931\n",
      "Epoch 22/60\n",
      "1246/1246 - 0s - loss: 0.9380 - accuracy: 0.5891\n",
      "Epoch 23/60\n",
      "1246/1246 - 0s - loss: 0.9417 - accuracy: 0.5923\n",
      "Epoch 24/60\n",
      "1246/1246 - 0s - loss: 0.9443 - accuracy: 0.5851\n",
      "Epoch 25/60\n",
      "1246/1246 - 0s - loss: 0.9387 - accuracy: 0.5955\n",
      "Epoch 26/60\n",
      "1246/1246 - 0s - loss: 0.9394 - accuracy: 0.5915\n",
      "Epoch 27/60\n",
      "1246/1246 - 0s - loss: 0.9340 - accuracy: 0.5939\n",
      "Epoch 28/60\n",
      "1246/1246 - 0s - loss: 0.9292 - accuracy: 0.6011\n",
      "Epoch 29/60\n",
      "1246/1246 - 0s - loss: 0.9252 - accuracy: 0.6011\n",
      "Epoch 30/60\n",
      "1246/1246 - 0s - loss: 0.9275 - accuracy: 0.6035\n",
      "Epoch 31/60\n",
      "1246/1246 - 0s - loss: 0.9245 - accuracy: 0.6011\n",
      "Epoch 32/60\n",
      "1246/1246 - 0s - loss: 0.9278 - accuracy: 0.5963\n",
      "Epoch 33/60\n",
      "1246/1246 - 0s - loss: 0.9245 - accuracy: 0.5979\n",
      "Epoch 34/60\n",
      "1246/1246 - 0s - loss: 0.9191 - accuracy: 0.5891\n",
      "Epoch 35/60\n",
      "1246/1246 - 0s - loss: 0.9248 - accuracy: 0.5891\n",
      "Epoch 36/60\n",
      "1246/1246 - 0s - loss: 0.9210 - accuracy: 0.5931\n",
      "Epoch 37/60\n",
      "1246/1246 - 0s - loss: 0.9158 - accuracy: 0.6116\n",
      "Epoch 38/60\n",
      "1246/1246 - 0s - loss: 0.9126 - accuracy: 0.5955\n",
      "Epoch 39/60\n",
      "1246/1246 - 0s - loss: 0.9102 - accuracy: 0.6059\n",
      "Epoch 40/60\n",
      "1246/1246 - 0s - loss: 0.9158 - accuracy: 0.5931\n",
      "Epoch 41/60\n",
      "1246/1246 - 0s - loss: 0.9096 - accuracy: 0.6011\n",
      "Epoch 42/60\n",
      "1246/1246 - 0s - loss: 0.9076 - accuracy: 0.6075\n",
      "Epoch 43/60\n",
      "1246/1246 - 0s - loss: 0.9058 - accuracy: 0.6083\n",
      "Epoch 44/60\n",
      "1246/1246 - 0s - loss: 0.9061 - accuracy: 0.6067\n",
      "Epoch 45/60\n",
      "1246/1246 - 0s - loss: 0.9029 - accuracy: 0.6091\n",
      "Epoch 46/60\n",
      "1246/1246 - 0s - loss: 0.9052 - accuracy: 0.5987\n",
      "Epoch 47/60\n",
      "1246/1246 - 0s - loss: 0.9009 - accuracy: 0.6035\n",
      "Epoch 48/60\n",
      "1246/1246 - 0s - loss: 0.8979 - accuracy: 0.6027\n",
      "Epoch 49/60\n",
      "1246/1246 - 0s - loss: 0.9060 - accuracy: 0.5971\n",
      "Epoch 50/60\n",
      "1246/1246 - 0s - loss: 0.8975 - accuracy: 0.6091\n",
      "Epoch 51/60\n",
      "1246/1246 - 0s - loss: 0.8919 - accuracy: 0.6083\n",
      "Epoch 52/60\n",
      "1246/1246 - 0s - loss: 0.9025 - accuracy: 0.5987\n",
      "Epoch 53/60\n",
      "1246/1246 - 0s - loss: 0.8979 - accuracy: 0.6043\n",
      "Epoch 54/60\n",
      "1246/1246 - 0s - loss: 0.8953 - accuracy: 0.6011\n",
      "Epoch 55/60\n",
      "1246/1246 - 0s - loss: 0.8894 - accuracy: 0.6188\n",
      "Epoch 56/60\n",
      "1246/1246 - 0s - loss: 0.8920 - accuracy: 0.6124\n",
      "Epoch 57/60\n",
      "1246/1246 - 0s - loss: 0.8881 - accuracy: 0.6091\n",
      "Epoch 58/60\n",
      "1246/1246 - 0s - loss: 0.8858 - accuracy: 0.6067\n",
      "Epoch 59/60\n",
      "1246/1246 - 0s - loss: 0.8823 - accuracy: 0.6188\n",
      "Epoch 60/60\n",
      "1246/1246 - 0s - loss: 0.8930 - accuracy: 0.6116\n"
     ]
    },
    {
     "data": {
      "text/plain": [
       "<tensorflow.python.keras.callbacks.History at 0x1f75b5e6320>"
      ]
     },
     "execution_count": 41,
     "metadata": {},
     "output_type": "execute_result"
    }
   ],
   "source": [
    "model.fit(\n",
    "    X_train_scaled,\n",
    "    y_train_categorical,\n",
    "    epochs=60,\n",
    "    shuffle=True,\n",
    "    verbose=2\n",
    ")"
   ]
  },
  {
   "cell_type": "markdown",
   "metadata": {},
   "source": [
    "## Quantify our Trained Model"
   ]
  },
  {
   "cell_type": "code",
   "execution_count": 42,
   "metadata": {},
   "outputs": [
    {
     "name": "stdout",
     "output_type": "stream",
     "text": [
      "1246/1246 - 0s - loss: 1.0088 - accuracy: 0.5915\n",
      "Normal Neural Network - Loss: 1.00878034787997, Accuracy: 0.591492772102356\n"
     ]
    }
   ],
   "source": [
    "model_loss, model_accuracy = model.evaluate(\n",
    "    X_test_scaled, y_test_categorical, verbose=2)\n",
    "print(\n",
    "    f\"Normal Neural Network - Loss: {model_loss}, Accuracy: {model_accuracy}\")"
   ]
  },
  {
   "cell_type": "markdown",
   "metadata": {
    "slideshow": {
     "slide_type": "subslide"
    }
   },
   "source": [
    "## Make Predictions"
   ]
  },
  {
   "cell_type": "code",
   "execution_count": null,
   "metadata": {
    "nbgrader": {
     "grade": false,
     "grade_id": "cell-f97eb3e97245187b",
     "locked": false,
     "schema_version": 1,
     "solution": true
    },
    "slideshow": {
     "slide_type": "fragment"
    }
   },
   "outputs": [],
   "source": [
    "encoded_predictions = model.predict_classes(X_test_scaled)\n",
    "prediction_labels = label_encoder.inverse_transform(encoded_predictions)\n",
    "prediction_labels.size"
   ]
  },
  {
   "cell_type": "code",
   "execution_count": null,
   "metadata": {},
   "outputs": [],
   "source": [
    "#print(f\"Predicted classes: {prediction_labels}\")\n",
    "#print(f\"Actual Labels: {list(y_test[:20])}\")"
   ]
  },
  {
   "cell_type": "code",
   "execution_count": null,
   "metadata": {},
   "outputs": [],
   "source": [
    "#zip id back into the array and export\n",
    "\n",
    "#X_test_withID.addColumn('pred', prediction_labels)\n",
    "X_test_with_id['predictedEOG'] = prediction_labels.tolist()\n",
    "X_test_with_id.head()"
   ]
  },
  {
   "cell_type": "code",
   "execution_count": null,
   "metadata": {},
   "outputs": [],
   "source": [
    "X_test_with_id.to_csv('main_data_test_result.csv')"
   ]
  },
  {
   "cell_type": "code",
   "execution_count": null,
   "metadata": {},
   "outputs": [],
   "source": []
  }
 ],
 "metadata": {
  "kernelspec": {
   "display_name": "Python [conda env:PythonData]",
   "language": "python",
   "name": "conda-env-PythonData-py"
  },
  "language_info": {
   "codemirror_mode": {
    "name": "ipython",
    "version": 3
   },
   "file_extension": ".py",
   "mimetype": "text/x-python",
   "name": "python",
   "nbconvert_exporter": "python",
   "pygments_lexer": "ipython3",
   "version": "3.6.9"
  },
  "varInspector": {
   "cols": {
    "lenName": 16,
    "lenType": 16,
    "lenVar": 40
   },
   "kernels_config": {
    "python": {
     "delete_cmd_postfix": "",
     "delete_cmd_prefix": "del ",
     "library": "var_list.py",
     "varRefreshCmd": "print(var_dic_list())"
    },
    "r": {
     "delete_cmd_postfix": ") ",
     "delete_cmd_prefix": "rm(",
     "library": "var_list.r",
     "varRefreshCmd": "cat(var_dic_list()) "
    }
   },
   "types_to_exclude": [
    "module",
    "function",
    "builtin_function_or_method",
    "instance",
    "_Feature"
   ],
   "window_display": false
  }
 },
 "nbformat": 4,
 "nbformat_minor": 2
}
