{
 "cells": [
  {
   "cell_type": "code",
   "execution_count": 1,
   "metadata": {},
   "outputs": [],
   "source": [
    "# Set the seed value for the notebook so the results are reproducible\n",
    "from numpy.random import seed\n",
    "seed(1)"
   ]
  },
  {
   "cell_type": "code",
   "execution_count": 2,
   "metadata": {
    "slideshow": {
     "slide_type": "subslide"
    }
   },
   "outputs": [],
   "source": [
    "# Dependencies\n",
    "import numpy as np\n",
    "import pandas as pd"
   ]
  },
  {
   "cell_type": "code",
   "execution_count": 3,
   "metadata": {},
   "outputs": [
    {
     "data": {
      "text/plain": [
       "'2.2.4-tf'"
      ]
     },
     "execution_count": 3,
     "metadata": {},
     "output_type": "execute_result"
    }
   ],
   "source": [
    "import tensorflow\n",
    "tensorflow.keras.__version__"
   ]
  },
  {
   "cell_type": "code",
   "execution_count": 4,
   "metadata": {
    "slideshow": {
     "slide_type": "fragment"
    }
   },
   "outputs": [
    {
     "data": {
      "text/html": [
       "<div>\n",
       "<style scoped>\n",
       "    .dataframe tbody tr th:only-of-type {\n",
       "        vertical-align: middle;\n",
       "    }\n",
       "\n",
       "    .dataframe tbody tr th {\n",
       "        vertical-align: top;\n",
       "    }\n",
       "\n",
       "    .dataframe thead th {\n",
       "        text-align: right;\n",
       "    }\n",
       "</style>\n",
       "<table border=\"1\" class=\"dataframe\">\n",
       "  <thead>\n",
       "    <tr style=\"text-align: right;\">\n",
       "      <th></th>\n",
       "      <th>EOG_quintile</th>\n",
       "      <th>percent_EDS</th>\n",
       "      <th>parent_unemployed</th>\n",
       "      <th>county_poc</th>\n",
       "      <th>median_inc_county</th>\n",
       "    </tr>\n",
       "  </thead>\n",
       "  <tbody>\n",
       "    <tr>\n",
       "      <td>0</td>\n",
       "      <td>4</td>\n",
       "      <td>96.0</td>\n",
       "      <td>11.3</td>\n",
       "      <td>50.3</td>\n",
       "      <td>40433</td>\n",
       "    </tr>\n",
       "    <tr>\n",
       "      <td>1</td>\n",
       "      <td>4</td>\n",
       "      <td>96.0</td>\n",
       "      <td>8.3</td>\n",
       "      <td>21.6</td>\n",
       "      <td>53419</td>\n",
       "    </tr>\n",
       "    <tr>\n",
       "      <td>2</td>\n",
       "      <td>3</td>\n",
       "      <td>96.0</td>\n",
       "      <td>8.6</td>\n",
       "      <td>56.6</td>\n",
       "      <td>59329</td>\n",
       "    </tr>\n",
       "    <tr>\n",
       "      <td>3</td>\n",
       "      <td>4</td>\n",
       "      <td>96.0</td>\n",
       "      <td>19.3</td>\n",
       "      <td>74.2</td>\n",
       "      <td>35407</td>\n",
       "    </tr>\n",
       "    <tr>\n",
       "      <td>4</td>\n",
       "      <td>4</td>\n",
       "      <td>4.0</td>\n",
       "      <td>9.5</td>\n",
       "      <td>42.7</td>\n",
       "      <td>50112</td>\n",
       "    </tr>\n",
       "    <tr>\n",
       "      <td>5</td>\n",
       "      <td>1</td>\n",
       "      <td>4.0</td>\n",
       "      <td>2.8</td>\n",
       "      <td>11.5</td>\n",
       "      <td>64426</td>\n",
       "    </tr>\n",
       "    <tr>\n",
       "      <td>6</td>\n",
       "      <td>1</td>\n",
       "      <td>4.0</td>\n",
       "      <td>12.7</td>\n",
       "      <td>52.5</td>\n",
       "      <td>44015</td>\n",
       "    </tr>\n",
       "    <tr>\n",
       "      <td>7</td>\n",
       "      <td>1</td>\n",
       "      <td>4.0</td>\n",
       "      <td>4.0</td>\n",
       "      <td>39.1</td>\n",
       "      <td>80169</td>\n",
       "    </tr>\n",
       "    <tr>\n",
       "      <td>8</td>\n",
       "      <td>3</td>\n",
       "      <td>4.0</td>\n",
       "      <td>9.2</td>\n",
       "      <td>35.7</td>\n",
       "      <td>57710</td>\n",
       "    </tr>\n",
       "    <tr>\n",
       "      <td>9</td>\n",
       "      <td>1</td>\n",
       "      <td>4.0</td>\n",
       "      <td>4.0</td>\n",
       "      <td>39.1</td>\n",
       "      <td>80169</td>\n",
       "    </tr>\n",
       "  </tbody>\n",
       "</table>\n",
       "</div>"
      ],
      "text/plain": [
       "   EOG_quintile  percent_EDS  parent_unemployed  county_poc  median_inc_county\n",
       "0             4         96.0               11.3        50.3              40433\n",
       "1             4         96.0                8.3        21.6              53419\n",
       "2             3         96.0                8.6        56.6              59329\n",
       "3             4         96.0               19.3        74.2              35407\n",
       "4             4          4.0                9.5        42.7              50112\n",
       "5             1          4.0                2.8        11.5              64426\n",
       "6             1          4.0               12.7        52.5              44015\n",
       "7             1          4.0                4.0        39.1              80169\n",
       "8             3          4.0                9.2        35.7              57710\n",
       "9             1          4.0                4.0        39.1              80169"
      ]
     },
     "execution_count": 4,
     "metadata": {},
     "output_type": "execute_result"
    }
   ],
   "source": [
    "df = pd.read_csv(\"main_data_tree2.csv\")\n",
    "df.head(10)"
   ]
  },
  {
   "cell_type": "markdown",
   "metadata": {
    "slideshow": {
     "slide_type": "subslide"
    }
   },
   "source": [
    "## Data Pre-Processing"
   ]
  },
  {
   "cell_type": "code",
   "execution_count": 5,
   "metadata": {
    "nbgrader": {
     "grade": false,
     "grade_id": "cell-86a9e3212f200d21",
     "locked": false,
     "schema_version": 1,
     "solution": true
    },
    "slideshow": {
     "slide_type": "subslide"
    }
   },
   "outputs": [
    {
     "name": "stdout",
     "output_type": "stream",
     "text": [
      "(2492, 4) (2492,)\n"
     ]
    }
   ],
   "source": [
    "X = df.drop(\"EOG_quintile\", axis=1)\n",
    "y = df[\"EOG_quintile\"]\n",
    "print(X.shape, y.shape)"
   ]
  },
  {
   "cell_type": "code",
   "execution_count": 6,
   "metadata": {
    "nbgrader": {
     "grade": false,
     "grade_id": "cell-711a82d9b32c83ff",
     "locked": false,
     "schema_version": 1,
     "solution": true
    },
    "slideshow": {
     "slide_type": "fragment"
    }
   },
   "outputs": [],
   "source": [
    "from sklearn.model_selection import train_test_split\n",
    "from sklearn.preprocessing import LabelEncoder, MinMaxScaler\n",
    "from tensorflow.keras.utils import to_categorical"
   ]
  },
  {
   "cell_type": "code",
   "execution_count": 7,
   "metadata": {
    "nbgrader": {
     "grade": false,
     "grade_id": "cell-711a82d9b32c83ff",
     "locked": false,
     "schema_version": 1,
     "solution": true
    },
    "slideshow": {
     "slide_type": "fragment"
    }
   },
   "outputs": [],
   "source": [
    "X_train, X_test, y_train, y_test = train_test_split(\n",
    "    X, y, random_state=1, stratify=y)"
   ]
  },
  {
   "cell_type": "code",
   "execution_count": 8,
   "metadata": {
    "nbgrader": {
     "grade": false,
     "grade_id": "cell-711a82d9b32c83ff",
     "locked": false,
     "schema_version": 1,
     "solution": true
    },
    "slideshow": {
     "slide_type": "fragment"
    }
   },
   "outputs": [],
   "source": [
    "X_scaler = MinMaxScaler().fit(X_train)\n",
    "X_train_scaled = X_scaler.transform(X_train)\n",
    "X_test_scaled = X_scaler.transform(X_test)"
   ]
  },
  {
   "cell_type": "code",
   "execution_count": 9,
   "metadata": {
    "nbgrader": {
     "grade": false,
     "grade_id": "cell-711a82d9b32c83ff",
     "locked": false,
     "schema_version": 1,
     "solution": true
    },
    "slideshow": {
     "slide_type": "fragment"
    }
   },
   "outputs": [],
   "source": [
    "# Step 1: Label-encode data set\n",
    "label_encoder = LabelEncoder()\n",
    "label_encoder.fit(y_train)\n",
    "encoded_y_train = label_encoder.transform(y_train)\n",
    "encoded_y_test = label_encoder.transform(y_test)"
   ]
  },
  {
   "cell_type": "code",
   "execution_count": 10,
   "metadata": {
    "nbgrader": {
     "grade": false,
     "grade_id": "cell-711a82d9b32c83ff",
     "locked": false,
     "schema_version": 1,
     "solution": true
    },
    "slideshow": {
     "slide_type": "fragment"
    }
   },
   "outputs": [],
   "source": [
    "# Step 2: Convert encoded labels to one-hot-encoding\n",
    "y_train_categorical = to_categorical(encoded_y_train)\n",
    "y_test_categorical = to_categorical(encoded_y_test)"
   ]
  },
  {
   "cell_type": "markdown",
   "metadata": {},
   "source": [
    "# Create a Deep Learning Model"
   ]
  },
  {
   "cell_type": "code",
   "execution_count": 11,
   "metadata": {},
   "outputs": [],
   "source": [
    "from tensorflow.keras.models import Sequential\n",
    "from tensorflow.keras.layers import Dense"
   ]
  },
  {
   "cell_type": "code",
   "execution_count": 12,
   "metadata": {},
   "outputs": [
    {
     "name": "stdout",
     "output_type": "stream",
     "text": [
      "WARNING:tensorflow:From C:\\Users\\petef\\Anaconda3\\envs\\PythonData\\lib\\site-packages\\tensorflow\\python\\ops\\init_ops.py:1251: calling VarianceScaling.__init__ (from tensorflow.python.ops.init_ops) with dtype is deprecated and will be removed in a future version.\n",
      "Instructions for updating:\n",
      "Call initializer instance with the dtype argument instead of passing it to the constructor\n"
     ]
    }
   ],
   "source": [
    "# Create model and add layers\n",
    "model = Sequential()\n",
    "model.add(Dense(units=100, activation='relu', input_dim=4))\n",
    "model.add(Dense(units=100, activation='relu'))\n",
    "model.add(Dense(units=5, activation='softmax'))"
   ]
  },
  {
   "cell_type": "code",
   "execution_count": 13,
   "metadata": {},
   "outputs": [],
   "source": [
    "# Compile and fit the model\n",
    "model.compile(optimizer='adam',\n",
    "              loss='categorical_crossentropy',\n",
    "              metrics=['accuracy'])"
   ]
  },
  {
   "cell_type": "code",
   "execution_count": 14,
   "metadata": {},
   "outputs": [
    {
     "name": "stdout",
     "output_type": "stream",
     "text": [
      "Model: \"sequential\"\n",
      "_________________________________________________________________\n",
      "Layer (type)                 Output Shape              Param #   \n",
      "=================================================================\n",
      "dense (Dense)                (None, 100)               500       \n",
      "_________________________________________________________________\n",
      "dense_1 (Dense)              (None, 100)               10100     \n",
      "_________________________________________________________________\n",
      "dense_2 (Dense)              (None, 5)                 505       \n",
      "=================================================================\n",
      "Total params: 11,105\n",
      "Trainable params: 11,105\n",
      "Non-trainable params: 0\n",
      "_________________________________________________________________\n"
     ]
    }
   ],
   "source": [
    "model.summary()"
   ]
  },
  {
   "cell_type": "code",
   "execution_count": 15,
   "metadata": {},
   "outputs": [
    {
     "name": "stdout",
     "output_type": "stream",
     "text": [
      "Epoch 1/60\n",
      "1869/1869 - 0s - loss: 1.3764 - acc: 0.4195\n",
      "Epoch 2/60\n",
      "1869/1869 - 0s - loss: 1.1821 - acc: 0.5024\n",
      "Epoch 3/60\n",
      "1869/1869 - 0s - loss: 1.1004 - acc: 0.5361\n",
      "Epoch 4/60\n",
      "1869/1869 - 0s - loss: 1.0611 - acc: 0.5324\n",
      "Epoch 5/60\n",
      "1869/1869 - 0s - loss: 1.0375 - acc: 0.5484\n",
      "Epoch 6/60\n",
      "1869/1869 - 0s - loss: 1.0341 - acc: 0.5431\n",
      "Epoch 7/60\n",
      "1869/1869 - 0s - loss: 1.0138 - acc: 0.5591\n",
      "Epoch 8/60\n",
      "1869/1869 - 0s - loss: 1.0153 - acc: 0.5639\n",
      "Epoch 9/60\n",
      "1869/1869 - 0s - loss: 1.0121 - acc: 0.5639\n",
      "Epoch 10/60\n",
      "1869/1869 - 0s - loss: 1.0058 - acc: 0.5645\n",
      "Epoch 11/60\n",
      "1869/1869 - 0s - loss: 1.0018 - acc: 0.5688\n",
      "Epoch 12/60\n",
      "1869/1869 - 0s - loss: 1.0015 - acc: 0.5629\n",
      "Epoch 13/60\n",
      "1869/1869 - 0s - loss: 1.0000 - acc: 0.5677\n",
      "Epoch 14/60\n",
      "1869/1869 - 0s - loss: 0.9971 - acc: 0.5650\n",
      "Epoch 15/60\n",
      "1869/1869 - 0s - loss: 0.9965 - acc: 0.5704\n",
      "Epoch 16/60\n",
      "1869/1869 - 0s - loss: 0.9948 - acc: 0.5688\n",
      "Epoch 17/60\n",
      "1869/1869 - 0s - loss: 0.9917 - acc: 0.5714\n",
      "Epoch 18/60\n",
      "1869/1869 - 0s - loss: 0.9913 - acc: 0.5811\n",
      "Epoch 19/60\n",
      "1869/1869 - 0s - loss: 0.9914 - acc: 0.5730\n",
      "Epoch 20/60\n",
      "1869/1869 - 0s - loss: 0.9891 - acc: 0.5757\n",
      "Epoch 21/60\n",
      "1869/1869 - 0s - loss: 0.9898 - acc: 0.5757\n",
      "Epoch 22/60\n",
      "1869/1869 - 0s - loss: 0.9873 - acc: 0.5768\n",
      "Epoch 23/60\n",
      "1869/1869 - 0s - loss: 0.9845 - acc: 0.5762\n",
      "Epoch 24/60\n",
      "1869/1869 - 0s - loss: 0.9895 - acc: 0.5752\n",
      "Epoch 25/60\n",
      "1869/1869 - 0s - loss: 0.9813 - acc: 0.5869\n",
      "Epoch 26/60\n",
      "1869/1869 - 0s - loss: 0.9824 - acc: 0.5773\n",
      "Epoch 27/60\n",
      "1869/1869 - 0s - loss: 0.9823 - acc: 0.5778\n",
      "Epoch 28/60\n",
      "1869/1869 - 0s - loss: 0.9836 - acc: 0.5805\n",
      "Epoch 29/60\n",
      "1869/1869 - 0s - loss: 0.9806 - acc: 0.5864\n",
      "Epoch 30/60\n",
      "1869/1869 - 0s - loss: 0.9845 - acc: 0.5869\n",
      "Epoch 31/60\n",
      "1869/1869 - 0s - loss: 0.9832 - acc: 0.5805\n",
      "Epoch 32/60\n",
      "1869/1869 - 0s - loss: 0.9831 - acc: 0.5821\n",
      "Epoch 33/60\n",
      "1869/1869 - 0s - loss: 0.9776 - acc: 0.5800\n",
      "Epoch 34/60\n",
      "1869/1869 - 0s - loss: 0.9762 - acc: 0.5811\n",
      "Epoch 35/60\n",
      "1869/1869 - 0s - loss: 0.9757 - acc: 0.5784\n",
      "Epoch 36/60\n",
      "1869/1869 - 0s - loss: 0.9762 - acc: 0.5891\n",
      "Epoch 37/60\n",
      "1869/1869 - 0s - loss: 0.9735 - acc: 0.6003\n",
      "Epoch 38/60\n",
      "1869/1869 - 0s - loss: 0.9815 - acc: 0.5746\n",
      "Epoch 39/60\n",
      "1869/1869 - 0s - loss: 0.9726 - acc: 0.5859\n",
      "Epoch 40/60\n",
      "1869/1869 - 0s - loss: 0.9786 - acc: 0.5827\n",
      "Epoch 41/60\n",
      "1869/1869 - 0s - loss: 0.9718 - acc: 0.5875\n",
      "Epoch 42/60\n",
      "1869/1869 - 0s - loss: 0.9781 - acc: 0.5848\n",
      "Epoch 43/60\n",
      "1869/1869 - 0s - loss: 0.9759 - acc: 0.5811\n",
      "Epoch 44/60\n",
      "1869/1869 - 0s - loss: 0.9715 - acc: 0.5837\n",
      "Epoch 45/60\n",
      "1869/1869 - 0s - loss: 0.9693 - acc: 0.5859\n",
      "Epoch 46/60\n",
      "1869/1869 - 0s - loss: 0.9723 - acc: 0.5789\n",
      "Epoch 47/60\n",
      "1869/1869 - 0s - loss: 0.9726 - acc: 0.5837\n",
      "Epoch 48/60\n",
      "1869/1869 - 0s - loss: 0.9710 - acc: 0.5902\n",
      "Epoch 49/60\n",
      "1869/1869 - 0s - loss: 0.9696 - acc: 0.5891\n",
      "Epoch 50/60\n",
      "1869/1869 - 0s - loss: 0.9707 - acc: 0.5843\n",
      "Epoch 51/60\n",
      "1869/1869 - 0s - loss: 0.9706 - acc: 0.5896\n",
      "Epoch 52/60\n",
      "1869/1869 - 0s - loss: 0.9691 - acc: 0.5843\n",
      "Epoch 53/60\n",
      "1869/1869 - 0s - loss: 0.9662 - acc: 0.5891\n",
      "Epoch 54/60\n",
      "1869/1869 - 0s - loss: 0.9680 - acc: 0.5902\n",
      "Epoch 55/60\n",
      "1869/1869 - 0s - loss: 0.9678 - acc: 0.5821\n",
      "Epoch 56/60\n",
      "1869/1869 - 0s - loss: 0.9724 - acc: 0.5827\n",
      "Epoch 57/60\n",
      "1869/1869 - 0s - loss: 0.9636 - acc: 0.5886\n",
      "Epoch 58/60\n",
      "1869/1869 - 0s - loss: 0.9616 - acc: 0.5923\n",
      "Epoch 59/60\n",
      "1869/1869 - 0s - loss: 0.9652 - acc: 0.5832\n",
      "Epoch 60/60\n",
      "1869/1869 - 0s - loss: 0.9632 - acc: 0.5869\n"
     ]
    },
    {
     "data": {
      "text/plain": [
       "<tensorflow.python.keras.callbacks.History at 0x183c7df5710>"
      ]
     },
     "execution_count": 15,
     "metadata": {},
     "output_type": "execute_result"
    }
   ],
   "source": [
    "model.fit(\n",
    "    X_train_scaled,\n",
    "    y_train_categorical,\n",
    "    epochs=60,\n",
    "    shuffle=True,\n",
    "    verbose=2\n",
    ")"
   ]
  },
  {
   "cell_type": "markdown",
   "metadata": {},
   "source": [
    "## Quantify our Trained Model"
   ]
  },
  {
   "cell_type": "code",
   "execution_count": 16,
   "metadata": {},
   "outputs": [
    {
     "name": "stdout",
     "output_type": "stream",
     "text": [
      "623/623 - 0s - loss: 0.9350 - acc: 0.6067\n",
      "Normal Neural Network - Loss: 0.9350250822583133, Accuracy: 0.6067415475845337\n"
     ]
    }
   ],
   "source": [
    "model_loss, model_accuracy = model.evaluate(\n",
    "    X_test_scaled, y_test_categorical, verbose=2)\n",
    "print(\n",
    "    f\"Normal Neural Network - Loss: {model_loss}, Accuracy: {model_accuracy}\")"
   ]
  },
  {
   "cell_type": "markdown",
   "metadata": {
    "slideshow": {
     "slide_type": "subslide"
    }
   },
   "source": [
    "## Make Predictions"
   ]
  },
  {
   "cell_type": "code",
   "execution_count": 17,
   "metadata": {
    "nbgrader": {
     "grade": false,
     "grade_id": "cell-f97eb3e97245187b",
     "locked": false,
     "schema_version": 1,
     "solution": true
    },
    "slideshow": {
     "slide_type": "fragment"
    }
   },
   "outputs": [],
   "source": [
    "encoded_predictions = model.predict_classes(X_test_scaled[:40])\n",
    "prediction_labels = label_encoder.inverse_transform(encoded_predictions)"
   ]
  },
  {
   "cell_type": "code",
   "execution_count": 18,
   "metadata": {},
   "outputs": [
    {
     "name": "stdout",
     "output_type": "stream",
     "text": [
      "Predicted classes: [3 3 3 3 2 2 2 3 4 2 2 3 3 1 3 3 2 3 1 3 2 3 3 4 2 2 3 3 2 2 3 2 1 3 3 3 4\n",
      " 4 3 2]\n",
      "Actual Labels: [3, 3, 3, 3, 2, 1, 2, 3, 4, 2, 3, 2, 3, 1, 3, 3, 2, 3, 1, 3, 2, 3, 3, 4, 2, 2, 3, 4, 2, 2, 3, 3, 1, 4, 3, 2, 3, 4, 3, 3]\n"
     ]
    }
   ],
   "source": [
    "print(f\"Predicted classes: {prediction_labels}\")\n",
    "print(f\"Actual Labels: {list(y_test[:40])}\")"
   ]
  },
  {
   "cell_type": "code",
   "execution_count": null,
   "metadata": {},
   "outputs": [],
   "source": []
  }
 ],
 "metadata": {
  "kernelspec": {
   "display_name": "Python [conda env:PythonData] *",
   "language": "python",
   "name": "conda-env-PythonData-py"
  },
  "language_info": {
   "codemirror_mode": {
    "name": "ipython",
    "version": 3
   },
   "file_extension": ".py",
   "mimetype": "text/x-python",
   "name": "python",
   "nbconvert_exporter": "python",
   "pygments_lexer": "ipython3",
   "version": "3.6.9"
  },
  "varInspector": {
   "cols": {
    "lenName": 16,
    "lenType": 16,
    "lenVar": 40
   },
   "kernels_config": {
    "python": {
     "delete_cmd_postfix": "",
     "delete_cmd_prefix": "del ",
     "library": "var_list.py",
     "varRefreshCmd": "print(var_dic_list())"
    },
    "r": {
     "delete_cmd_postfix": ") ",
     "delete_cmd_prefix": "rm(",
     "library": "var_list.r",
     "varRefreshCmd": "cat(var_dic_list()) "
    }
   },
   "types_to_exclude": [
    "module",
    "function",
    "builtin_function_or_method",
    "instance",
    "_Feature"
   ],
   "window_display": false
  }
 },
 "nbformat": 4,
 "nbformat_minor": 2
}
